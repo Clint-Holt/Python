{
  "nbformat": 4,
  "nbformat_minor": 0,
  "metadata": {
    "colab": {
      "provenance": []
    },
    "language_info": {
      "name": "python"
    },
    "kernelspec": {
      "name": "python3",
      "display_name": "Python 3"
    },
    "gpuClass": "standard"
  },
  "cells": [
    {
      "cell_type": "code",
      "source": [
        "print 'Python is really cool'"
      ],
      "outputs": [
        {
          "output_type": "stream",
          "text": [
            "Python is really cool\n"
          ],
          "name": "stdout"
        }
      ],
      "metadata": {
        "id": "04iq-8qgwjqT",
        "outputId": "2fde0244-4edc-4bb4-dc3a-e1b72d45104e"
      },
      "execution_count": null
    },
    {
      "cell_type": "markdown",
      "source": [
        "Color\tValue\n",
        "Red\t1\n",
        "Orange\t2\n",
        "Yellow\t3\n",
        "Green\t4\n",
        "Blue\t5\n",
        "Purple\t6\n",
        "Black\t7\n",
        "White\t8\n",
        "\n",
        "---\n",
        "\n"
      ],
      "metadata": {
        "id": "lryIDLEM3BUi"
      }
    },
    {
      "cell_type": "code",
      "source": [],
      "outputs": [],
      "metadata": {
        "id": "Eg3xV69mwjqa"
      },
      "execution_count": null
    },
    {
      "cell_type": "code",
      "source": [
        "with open(\"Colors.txt\", 'rb') as open_file:\n",
        "    print ('Colors.txt content:\\n' + open_file.read())\n"
      ],
      "metadata": {
        "colab": {
          "base_uri": "https://localhost:8080/",
          "height": 183
        },
        "id": "GpcKg8-5wlrz",
        "outputId": "d78aa8a3-f3a3-4b68-a74f-1b9ed48a1599"
      },
      "execution_count": 5,
      "outputs": [
        {
          "output_type": "error",
          "ename": "FileNotFoundError",
          "evalue": "ignored",
          "traceback": [
            "\u001b[0;31m---------------------------------------------------------------------------\u001b[0m",
            "\u001b[0;31mFileNotFoundError\u001b[0m                         Traceback (most recent call last)",
            "\u001b[0;32m<ipython-input-5-4d43b8ef546b>\u001b[0m in \u001b[0;36m<module>\u001b[0;34m\u001b[0m\n\u001b[0;32m----> 1\u001b[0;31m \u001b[0;32mwith\u001b[0m \u001b[0mopen\u001b[0m\u001b[0;34m(\u001b[0m\u001b[0;34m\"Colors.txt\"\u001b[0m\u001b[0;34m,\u001b[0m \u001b[0;34m'rb'\u001b[0m\u001b[0;34m)\u001b[0m \u001b[0;32mas\u001b[0m \u001b[0mopen_file\u001b[0m\u001b[0;34m:\u001b[0m\u001b[0;34m\u001b[0m\u001b[0;34m\u001b[0m\u001b[0m\n\u001b[0m\u001b[1;32m      2\u001b[0m     \u001b[0mprint\u001b[0m \u001b[0;34m(\u001b[0m\u001b[0;34m'Colors.txt content:\\n'\u001b[0m \u001b[0;34m+\u001b[0m \u001b[0mopen_file\u001b[0m\u001b[0;34m.\u001b[0m\u001b[0mread\u001b[0m\u001b[0;34m(\u001b[0m\u001b[0;34m)\u001b[0m\u001b[0;34m)\u001b[0m\u001b[0;34m\u001b[0m\u001b[0;34m\u001b[0m\u001b[0m\n",
            "\u001b[0;31mFileNotFoundError\u001b[0m: [Errno 2] No such file or directory: 'Colors.txt'"
          ]
        }
      ]
    },
    {
      "cell_type": "markdown",
      "source": [
        "Color\tValue\n",
        "Red\t1\n",
        "Orange\t2\n",
        "Yellow\t3\n",
        "Green\t4\n",
        "Blue\t5\n",
        "Purple\t6\n",
        "Black\t7\n",
        "White\t8"
      ],
      "metadata": {
        "id": "0v4Vt41_4HDa"
      }
    }
  ]
}