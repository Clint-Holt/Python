{
 "metadata": {
  "name": "",
  "signature": "sha256:fcbdd9ab32ae2d64b08aaf54bc7a36a725d5cee4df8ada15862d67fdb259d365"
 },
 "nbformat": 3,
 "nbformat_minor": 0,
 "worksheets": [
  {
   "cells": [
    {
     "cell_type": "heading",
     "level": 1,
     "metadata": {},
     "source": [
      "Reducing Dimensionality"
     ]
    },
    {
     "cell_type": "heading",
     "level": 2,
     "metadata": {},
     "source": [
      "Understanding SVD"
     ]
    },
    {
     "cell_type": "heading",
     "level": 3,
     "metadata": {},
     "source": [
      "Considering the problem of dimensionality reduction"
     ]
    },
    {
     "cell_type": "heading",
     "level": 3,
     "metadata": {},
     "source": [
      "Using SVD to measure the invisible"
     ]
    },
    {
     "cell_type": "code",
     "collapsed": false,
     "input": [
      "import numpy as np\n",
      "A = np.array([[1, 3, 4], [2, 3, 5], [1, 2, 3], [5, 4, 6]])\n",
      "print(A)"
     ],
     "language": "python",
     "metadata": {},
     "outputs": [
      {
       "output_type": "stream",
       "stream": "stdout",
       "text": [
        "[[1 3 4]\n",
        " [2 3 5]\n",
        " [1 2 3]\n",
        " [5 4 6]]\n"
       ]
      }
     ],
     "prompt_number": 573
    },
    {
     "cell_type": "code",
     "collapsed": false,
     "input": [
      "U, s, Vh = np.linalg.svd(A, full_matrices=False)\n",
      "print np.shape(U), np.shape(s),np.shape(Vh)\n",
      "print s"
     ],
     "language": "python",
     "metadata": {},
     "outputs": [
      {
       "output_type": "stream",
       "stream": "stdout",
       "text": [
        "[ 12.26362747   2.11085464   0.38436189]\n",
        "(4L, 3L) (3L,) (3L, 3L)\n"
       ]
      }
     ],
     "prompt_number": 574
    },
    {
     "cell_type": "code",
     "collapsed": false,
     "input": [
      "print np.dot(np.dot(U, np.diag(s)), Vh) # Full matrix reconstruction"
     ],
     "language": "python",
     "metadata": {},
     "outputs": [
      {
       "output_type": "stream",
       "stream": "stdout",
       "text": [
        "[[ 1.  3.  4.]\n",
        " [ 2.  3.  5.]\n",
        " [ 1.  2.  3.]\n",
        " [ 5.  4.  6.]]\n"
       ]
      }
     ],
     "prompt_number": 575
    },
    {
     "cell_type": "code",
     "collapsed": false,
     "input": [
      "print np.round(np.dot(np.dot(U[:,:2], np.diag(s[:2])), Vh[:2,:]),1) # k=2 reconstruction"
     ],
     "language": "python",
     "metadata": {},
     "outputs": [
      {
       "output_type": "stream",
       "stream": "stdout",
       "text": [
        "[[ 1.   2.8  4.1]\n",
        " [ 2.   3.2  4.8]\n",
        " [ 1.   2.   3. ]\n",
        " [ 5.   3.9  6. ]]\n"
       ]
      }
     ],
     "prompt_number": 576
    },
    {
     "cell_type": "code",
     "collapsed": false,
     "input": [
      "print np.round(np.dot(np.dot(U[:,:1], np.diag(s[:1])), Vh[:1,:]),1) # k=1 reconstruction"
     ],
     "language": "python",
     "metadata": {},
     "outputs": [
      {
       "output_type": "stream",
       "stream": "stdout",
       "text": [
        "[[ 2.1  2.5  3.7]\n",
        " [ 2.6  3.1  4.6]\n",
        " [ 1.6  1.8  2.8]\n",
        " [ 3.7  4.3  6.5]]\n"
       ]
      }
     ],
     "prompt_number": 577
    },
    {
     "cell_type": "code",
     "collapsed": false,
     "input": [
      "from sklearn.decomposition import TruncatedSVD\n",
      "from sklearn.random_projection import sparse_random_matrix\n",
      "X = sparse_random_matrix(100, 100, density=0.01, random_state=42)\n",
      "svd = TruncatedSVD(n_components=5, random_state=42)\n",
      "svd.fit(X) \n",
      "print(svd.explained_variance_ratio_) \n",
      "print(svd.explained_variance_ratio_.sum())\n",
      "shape(svd.components_)"
     ],
     "language": "python",
     "metadata": {},
     "outputs": [
      {
       "output_type": "stream",
       "stream": "stdout",
       "text": [
        "[ 0.07825405  0.05528833  0.05445136  0.049973    0.04134283]\n",
        "0.279309572028\n"
       ]
      }
     ],
     "prompt_number": 40
    },
    {
     "cell_type": "heading",
     "level": 2,
     "metadata": {},
     "source": [
      "Performing Factor Analysis"
     ]
    },
    {
     "cell_type": "heading",
     "level": 3,
     "metadata": {},
     "source": [
      "Considering the psychometric model"
     ]
    },
    {
     "cell_type": "heading",
     "level": 3,
     "metadata": {},
     "source": [
      "Looking for hidden factors"
     ]
    },
    {
     "cell_type": "code",
     "collapsed": false,
     "input": [
      "from sklearn.datasets import load_iris\n",
      "from sklearn.decomposition import FactorAnalysis\n",
      "iris = load_iris()\n",
      "X = iris.data\n",
      "Y = iris.target\n",
      "factor = FactorAnalysis(n_components=4).fit(X)"
     ],
     "language": "python",
     "metadata": {},
     "outputs": [],
     "prompt_number": 1
    },
    {
     "cell_type": "code",
     "collapsed": false,
     "input": [
      "import pandas as pd\n",
      "print pd.DataFrame(factor.components_,columns=iris.feature_names)"
     ],
     "language": "python",
     "metadata": {},
     "outputs": [
      {
       "output_type": "stream",
       "stream": "stdout",
       "text": [
        "   sepal length (cm)  sepal width (cm)  petal length (cm)  petal width (cm)\n",
        "0           0.707227         -0.153147           1.653151          0.701569\n",
        "1           0.114676          0.159763          -0.045604         -0.014052\n",
        "2           0.000000         -0.000000          -0.000000         -0.000000\n",
        "3          -0.000000          0.000000           0.000000         -0.000000\n",
        "\n",
        "[4 rows x 4 columns]\n"
       ]
      }
     ],
     "prompt_number": 567
    },
    {
     "cell_type": "heading",
     "level": 2,
     "metadata": {},
     "source": [
      "Executing Principal Component Analysis"
     ]
    },
    {
     "cell_type": "heading",
     "level": 3,
     "metadata": {},
     "source": [
      "Using components, not factors"
     ]
    },
    {
     "cell_type": "heading",
     "level": 3,
     "metadata": {},
     "source": [
      "Achieving dimensionality reduction"
     ]
    },
    {
     "cell_type": "code",
     "collapsed": false,
     "input": [
      "from sklearn.decomposition import PCA\n",
      "import pandas as pd\n",
      "pca = PCA().fit(X)\n",
      "print 'Explained variance by each component: %s' % pca.explained_variance_ratio_\n",
      "print pd.DataFrame(pca.components_,columns=iris.feature_names)"
     ],
     "language": "python",
     "metadata": {},
     "outputs": [
      {
       "output_type": "stream",
       "stream": "stdout",
       "text": [
        "Explained variance by each component: [ 0.92461621  0.05301557  0.01718514  0.00518309]\n",
        "   sepal length (cm)  sepal width (cm)  petal length (cm)  petal width (cm)\n",
        "0           0.361590         -0.082269           0.856572          0.358844\n",
        "1          -0.656540         -0.729712           0.175767          0.074706\n",
        "2           0.580997         -0.596418          -0.072524         -0.549061\n",
        "3           0.317255         -0.324094          -0.479719          0.751121\n",
        "\n",
        "[4 rows x 4 columns]\n"
       ]
      }
     ],
     "prompt_number": 570
    },
    {
     "cell_type": "heading",
     "level": 2,
     "metadata": {},
     "source": [
      "Understanding some applications"
     ]
    },
    {
     "cell_type": "heading",
     "level": 3,
     "metadata": {},
     "source": [
      "Recognizing faces with PCA"
     ]
    },
    {
     "cell_type": "markdown",
     "metadata": {},
     "source": [
      "The dataset contains 400 images of 40 different persons. The photos were taken\n",
      "with different light conditions and facial expressions (including open/closed eyes,\n",
      "smiling/not smiling, and with glasses/no glasses). For additional information about\n",
      "the dataset refer to http://www.cl.cam.ac.uk/research/dtg/attarchive/\n",
      "facedatabase.html.\n",
      "Looking at the content of the faces object, we get the following properties: images,\n",
      "data, and target. Images contain the 400 images represented as 64 x 64 pixel\n",
      "matrices. data contains the same 400 images but as array of 4096 pixels. target is, as\n",
      "expected, an array with the target classes, ranging from 0 to 39."
     ]
    },
    {
     "cell_type": "code",
     "collapsed": false,
     "input": [
      "from sklearn.datasets import fetch_olivetti_faces\n",
      "dataset = fetch_olivetti_faces(shuffle=True, random_state=101)\n",
      "train_faces = dataset.data[:350,:]\n",
      "test_faces  = dataset.data[350:,:]\n",
      "train_answers = dataset.target[:350]\n",
      "test_answers = dataset.target[350:]\n",
      "\n",
      "print dataset.DESCR"
     ],
     "language": "python",
     "metadata": {},
     "outputs": [
      {
       "output_type": "stream",
       "stream": "stdout",
       "text": [
        "Modified Olivetti faces dataset.\n",
        "\n",
        "The original database was available from (now defunct)\n",
        "\n",
        "    http://www.uk.research.att.com/facedatabase.html\n",
        "\n",
        "The version retrieved here comes in MATLAB format from the personal\n",
        "web page of Sam Roweis:\n",
        "\n",
        "    http://www.cs.nyu.edu/~roweis/\n",
        "\n",
        "There are ten different images of each of 40 distinct subjects. For some\n",
        "subjects, the images were taken at different times, varying the lighting,\n",
        "facial expressions (open / closed eyes, smiling / not smiling) and facial\n",
        "details (glasses / no glasses). All the images were taken against a dark\n",
        "homogeneous background with the subjects in an upright, frontal position (with\n",
        "tolerance for some side movement).\n",
        "\n",
        "The original dataset consisted of 92 x 112, while the Roweis version\n",
        "consists of 64x64 images.\n",
        "\n"
       ]
      }
     ],
     "prompt_number": 16
    },
    {
     "cell_type": "code",
     "collapsed": false,
     "input": [
      "from sklearn.decomposition import RandomizedPCA\n",
      "n_components = 25\n",
      "Rpca = RandomizedPCA(n_components=n_components, whiten=True).fit(train_faces)\n",
      "print 'Explained variance by %i components: %0.3f' % (n_components, np.sum(Rpca.explained_variance_ratio_))\n",
      "compressed_train_faces = Rpca.transform(train_faces)\n",
      "compressed_test_faces  = Rpca.transform(test_faces)"
     ],
     "language": "python",
     "metadata": {},
     "outputs": [
      {
       "output_type": "stream",
       "stream": "stdout",
       "text": [
        "Explained variance by 25 components: 0.794\n"
       ]
      }
     ],
     "prompt_number": 17
    },
    {
     "cell_type": "code",
     "collapsed": false,
     "input": [
      "import matplotlib.pyplot as plt\n",
      "photo = 17\n",
      "print 'We are looking for face id=%i' % test_answers[photo]\n",
      "plt.subplot(1, 2, 1)\n",
      "plt.axis('off')\n",
      "plt.title('Unknown face '+str(photo)+' in test set')\n",
      "plt.imshow(test_faces[photo].reshape(64,64), cmap=plt.cm.gray, interpolation='nearest')"
     ],
     "language": "python",
     "metadata": {},
     "outputs": [
      {
       "output_type": "stream",
       "stream": "stdout",
       "text": [
        "We are looking for face id=34\n"
       ]
      },
      {
       "metadata": {},
       "output_type": "pyout",
       "prompt_number": 18,
       "text": [
        "<matplotlib.image.AxesImage at 0x14e29320>"
       ]
      },
      {
       "metadata": {},
       "output_type": "display_data",
       "png": "[encoded data removed]",
       "text": [
        "<matplotlib.figure.Figure at 0x1440b470>"
       ]
      }
     ],
     "prompt_number": 18
    },
    {
     "cell_type": "code",
     "collapsed": false,
     "input": [
      "mask = compressed_test_faces[photo,] #Just the vector of value components of our photo\n",
      "squared_errors = np.sum((compressed_train_faces - mask)**2,axis=1)\n",
      "minimum_error_face = argmin(squared_errors)\n",
      "most_resembling = list(np.where(squared_errors < 20)[0])\n",
      "print 'Best resembling face in train test: %i' % train_answers[minimum_error_face]"
     ],
     "language": "python",
     "metadata": {},
     "outputs": [
      {
       "output_type": "stream",
       "stream": "stdout",
       "text": [
        "Best resembling face in train test: 34\n"
       ]
      }
     ],
     "prompt_number": 19
    },
    {
     "cell_type": "code",
     "collapsed": false,
     "input": [
      "import matplotlib.pyplot as plt\n",
      "plt.subplot(2, 2, 1)\n",
      "plt.axis('off')\n",
      "plt.title('Unknown face '+str(photo)+' in test set')\n",
      "plt.imshow(test_faces[photo].reshape(64,64), cmap=plt.cm.gray, interpolation='nearest')\n",
      "for k,m in enumerate(most_resembling[:3]):\n",
      "    plt.subplot(2, 2, 2+k)\n",
      "    plt.title('Match in train set no. '+str(m))\n",
      "    plt.axis('off')\n",
      "    plt.imshow(train_faces[m].reshape(64,64), cmap=plt.cm.gray, interpolation='nearest')\n",
      "plt.show()"
     ],
     "language": "python",
     "metadata": {},
     "outputs": [
      {
       "metadata": {},
       "output_type": "display_data",
       "png": "[encoded data removed]",
       "text": [
        "<matplotlib.figure.Figure at 0x14e30ba8>"
       ]
      }
     ],
     "prompt_number": 20
    },
    {
     "cell_type": "heading",
     "level": 3,
     "metadata": {},
     "source": [
      "Positive Matrix factorization"
     ]
    },
    {
     "cell_type": "code",
     "collapsed": false,
     "input": [
      "import os\n",
      "print os.getcwd()"
     ],
     "language": "python",
     "metadata": {},
     "outputs": [
      {
       "output_type": "stream",
       "stream": "stdout",
       "text": [
        "C:\\WinPython-64bit-2.7.6.4\\python-2.7.6.amd64\\Scripts\n"
       ]
      }
     ],
     "prompt_number": 2
    },
    {
     "cell_type": "code",
     "collapsed": false,
     "input": [
      "from sklearn.datasets import fetch_20newsgroups\n",
      "dataset = fetch_20newsgroups(shuffle=True, categories = ['misc.forsale'], remove=('headers', 'footers', 'quotes'), random_state=101)\n",
      "print 'Posts: %i' % len(dataset.data)"
     ],
     "language": "python",
     "metadata": {},
     "outputs": [
      {
       "output_type": "stream",
       "stream": "stdout",
       "text": [
        "Posts: 585\n"
       ]
      }
     ],
     "prompt_number": 1
    },
    {
     "cell_type": "code",
     "collapsed": false,
     "input": [
      "print dataset.target_names"
     ],
     "language": "python",
     "metadata": {},
     "outputs": [
      {
       "output_type": "stream",
       "stream": "stdout",
       "text": [
        "['misc.forsale']\n"
       ]
      }
     ],
     "prompt_number": 2
    },
    {
     "cell_type": "code",
     "collapsed": false,
     "input": [
      "from sklearn.feature_extraction.text import TfidfVectorizer\n",
      "vectorizer = TfidfVectorizer(max_df=0.95, min_df=2, stop_words='english')\n",
      "tfidf = vectorizer.fit_transform(dataset.data)"
     ],
     "language": "python",
     "metadata": {},
     "outputs": [],
     "prompt_number": 3
    },
    {
     "cell_type": "code",
     "collapsed": false,
     "input": [
      "from sklearn.decomposition import NMF\n",
      "n_topics = 5\n",
      "nmf = NMF(n_components=n_topics, random_state=101).fit(tfidf)"
     ],
     "language": "python",
     "metadata": {},
     "outputs": [],
     "prompt_number": 4
    },
    {
     "cell_type": "code",
     "collapsed": false,
     "input": [
      "feature_names = vectorizer.get_feature_names()\n",
      "n_top_words = 15\n",
      "for topic_idx, topic in enumerate(nmf.components_):\n",
      "    print \"Topic #%d:\" % (topic_idx+1),\n",
      "    print \" \".join([feature_names[i] for i in topic.argsort()[:-n_top_words - 1:-1]])"
     ],
     "language": "python",
     "metadata": {},
     "outputs": [
      {
       "output_type": "stream",
       "stream": "stdout",
       "text": [
        "Topic #1: drive hard card floppy monitor meg ram disk motherboard vga scsi brand color internal modem\n",
        "Topic #2: 00 50 dos 20 10 15 cover 1st new 25 price man 40 shipping comics\n",
        "Topic #3: condition excellent offer asking best car old sale good new miles 10 000 tape cd\n",
        "Topic #4: shipping vcr stereo works obo included amp plus great volume vhs unc mathes gibbs radley\n",
        "Topic #5: email looking games game mail interested send like thanks price package list sale want know\n"
       ]
      }
     ],
     "prompt_number": 5
    },
    {
     "cell_type": "code",
     "collapsed": false,
     "input": [
      "nmf = NMF(n_components=n_topics+100, random_state=101).fit(tfidf)\n",
      "nmf.reconstruction_err_"
     ],
     "language": "python",
     "metadata": {},
     "outputs": [
      {
       "metadata": {},
       "output_type": "pyout",
       "prompt_number": 24,
       "text": [
        "19.081869391859613"
       ]
      }
     ],
     "prompt_number": 24
    },
    {
     "cell_type": "heading",
     "level": 3,
     "metadata": {},
     "source": [
      "Movie Recommendation Engine"
     ]
    },
    {
     "cell_type": "code",
     "collapsed": false,
     "input": [
      "import pandas as pd\n",
      "from scipy.sparse import csr_matrix\n",
      "users = pd.read_table('ml-1m/users.dat', sep='::', header=None, names=['user_id', 'gender', 'age', 'occupation', 'zip'])\n",
      "ratings = pd.read_table('ml-1m/ratings.dat', sep='::', header=None, names=['user_id', 'movie_id', 'rating', 'timestamp'])\n",
      "movies = pd.read_table('ml-1m/movies.dat', sep='::', header=None, names=['movie_id', 'title', 'genres'])\n",
      "MovieLens = pd.merge(pd.merge(ratings, users), movies)"
     ],
     "language": "python",
     "metadata": {},
     "outputs": [],
     "prompt_number": 4
    },
    {
     "cell_type": "code",
     "collapsed": false,
     "input": [
      "ratings_mtx_df = MovieLens.pivot_table(values='rating', rows='user_id', cols='title', fill_value=0)\n",
      "movie_index = ratings_mtx_df.columns"
     ],
     "language": "python",
     "metadata": {},
     "outputs": [],
     "prompt_number": 5
    },
    {
     "cell_type": "code",
     "collapsed": false,
     "input": [
      "from sklearn.decomposition import TruncatedSVD\n",
      "recom = TruncatedSVD(n_components=10, random_state=101)\n",
      "R = recom.fit_transform(ratings_mtx_df.values.T)"
     ],
     "language": "python",
     "metadata": {},
     "outputs": [],
     "prompt_number": 6
    },
    {
     "cell_type": "code",
     "collapsed": false,
     "input": [
      "# 1196::Star Wars: Episode V - The Empire Strikes Back (1980)::Action|Adventure|Drama|Sci-Fi|War\n",
      "star_wars_idx = list(movie_index).index('Star Wars: Episode V - The Empire Strikes Back (1980)')\n",
      "print R[star_wars_idx]"
     ],
     "language": "python",
     "metadata": {},
     "outputs": [
      {
       "output_type": "stream",
       "stream": "stdout",
       "text": [
        "[ 184.72254552  -17.7761415    47.33483561  -51.46669814  -47.9152707\n",
        "  -17.65000951  -14.34294204  -12.88678007  -17.48586358   -5.38370224]\n"
       ]
      }
     ],
     "prompt_number": 7
    },
    {
     "cell_type": "code",
     "collapsed": false,
     "input": [
      "import numpy as np\n",
      "correlation_matrix = np.corrcoef(R)\n",
      "P = correlation_matrix[star_wars_idx]\n",
      "print list(movie_index[(P > 0.98) & (P < 1.0)])"
     ],
     "language": "python",
     "metadata": {},
     "outputs": [
      {
       "output_type": "stream",
       "stream": "stdout",
       "text": [
        "['Raiders of the Lost Ark (1981)', 'Star Wars: Episode IV - A New Hope (1977)', 'Star Wars: Episode VI - Return of the Jedi (1983)']\n"
       ]
      }
     ],
     "prompt_number": 9
    },
    {
     "cell_type": "code",
     "collapsed": false,
     "input": [
      "star_wars_idx"
     ],
     "language": "python",
     "metadata": {},
     "outputs": [
      {
       "metadata": {},
       "output_type": "pyout",
       "prompt_number": 10,
       "text": [
        "3154"
       ]
      }
     ],
     "prompt_number": 10
    },
    {
     "cell_type": "code",
     "collapsed": false,
     "input": [],
     "language": "python",
     "metadata": {},
     "outputs": []
    }
   ],
   "metadata": {}
  }
 ]
}