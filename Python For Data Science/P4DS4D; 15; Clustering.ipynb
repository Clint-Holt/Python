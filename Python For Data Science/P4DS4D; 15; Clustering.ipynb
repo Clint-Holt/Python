{
 "metadata": {
  "name": "",
  "signature": "sha256:5f0574628bde2f17832893fb06b2295f6f5a3ce5c77c9b533fa3188492cf65d9"
 },
 "nbformat": 3,
 "nbformat_minor": 0,
 "worksheets": [
  {
   "cells": [
    {
     "cell_type": "markdown",
     "metadata": {},
     "source": [
      "http://www.slideshare.net/SarahGuido/kmeans-clustering-with-scikitlearn<BR>\n",
      "http://scikit-learn.org/stable/auto_examples/cluster/plot_kmeans_digits.html#example-cluster-plot-kmeans-digits-py<BR>\n",
      "http://scikit-learn.org/stable/auto_examples/document_clustering.html#example-document-clustering-py<BR>\n",
      "https://www.mail-archive.com/scikit-learn-general@lists.sourceforge.net/msg08695.html<BR>\n",
      "http://en.wikipedia.org/wiki/Cluster_analysis<BR>\n",
      "http://docs.scipy.org/doc/scipy-0.14.0/reference/cluster.html<BR>\n",
      "http://scikit-learn.org/stable/modules/clustering.html<BR>\n",
      "http://scikit-learn.org/stable/modules/classes.html#module-sklearn.cluster<BR>\n",
      "http://scikit-learn.org/stable/modules/generated/sklearn.cluster.AgglomerativeClustering.html#sklearn.cluster.AgglomerativeClustering<BR>\n",
      "http://scikit-learn.org/stable/auto_examples/cluster/plot_agglomerative_clustering_metrics.html#example-cluster-plot-agglomerative-clustering-metrics-py<BR>\n",
      "http://scikit-learn.org/stable/auto_examples/cluster/plot_digits_linkage.html#example-cluster-plot-digits-linkage-py<BR>\n",
      "http://people.cs.uchicago.edu/~dinoj/manifold/swissroll.html<BR>"
     ]
    },
    {
     "cell_type": "heading",
     "level": 1,
     "metadata": {},
     "source": [
      "K-means"
     ]
    },
    {
     "cell_type": "code",
     "collapsed": false,
     "input": [
      "from sklearn.datasets import load_digits\n",
      "digits = load_digits()\n",
      "X = digits.data\n",
      "ground_truth = digits.target\n",
      "\n",
      "#print digits.DESCR"
     ],
     "language": "python",
     "metadata": {},
     "outputs": [],
     "prompt_number": 1
    },
    {
     "cell_type": "code",
     "collapsed": false,
     "input": [
      "from sklearn.decomposition import PCA\n",
      "from sklearn.preprocessing import scale\n",
      "pca = PCA(n_components=40)\n",
      "Cx = pca.fit_transform(scale(X))\n",
      "print 'Explained variance %0.3f' % sum(pca.explained_variance_ratio_)"
     ],
     "language": "python",
     "metadata": {},
     "outputs": [
      {
       "output_type": "stream",
       "stream": "stdout",
       "text": [
        "Explained variance 0.951\n"
       ]
      }
     ],
     "prompt_number": 2
    },
    {
     "cell_type": "code",
     "collapsed": false,
     "input": [
      "from sklearn.cluster import KMeans\n",
      "clustering = KMeans(n_clusters=10, n_init=10, random_state=1)\n",
      "clustering.fit(Cx)"
     ],
     "language": "python",
     "metadata": {},
     "outputs": [
      {
       "metadata": {},
       "output_type": "pyout",
       "prompt_number": 3,
       "text": [
        "KMeans(copy_x=True, init='k-means++', max_iter=300, n_clusters=10, n_init=10,\n",
        "    n_jobs=1, precompute_distances=True, random_state=1, tol=0.0001,\n",
        "    verbose=0)"
       ]
      }
     ],
     "prompt_number": 3
    },
    {
     "cell_type": "code",
     "collapsed": false,
     "input": [
      "import numpy as np\n",
      "import pandas as pd\n",
      "ms = np.column_stack((ground_truth,clustering.labels_))\n",
      "df = pd.DataFrame(ms, columns = ['Ground truth','Clusters'])\n",
      "pd.crosstab(df['Ground truth'], df['Clusters'], margins=True)"
     ],
     "language": "python",
     "metadata": {},
     "outputs": [
      {
       "html": [
        "<div style=\"max-height:1000px;max-width:1500px;overflow:auto;\">\n",
        "<table border=\"1\" class=\"dataframe\">\n",
        "  <thead>\n",
        "    <tr style=\"text-align: right;\">\n",
        "      <th>Clusters</th>\n",
        "      <th>0</th>\n",
        "      <th>1</th>\n",
        "      <th>2</th>\n",
        "      <th>3</th>\n",
        "      <th>4</th>\n",
        "      <th>5</th>\n",
        "      <th>6</th>\n",
        "      <th>7</th>\n",
        "      <th>8</th>\n",
        "      <th>9</th>\n",
        "      <th>All</th>\n",
        "    </tr>\n",
        "    <tr>\n",
        "      <th>Ground truth</th>\n",
        "      <th></th>\n",
        "      <th></th>\n",
        "      <th></th>\n",
        "      <th></th>\n",
        "      <th></th>\n",
        "      <th></th>\n",
        "      <th></th>\n",
        "      <th></th>\n",
        "      <th></th>\n",
        "      <th></th>\n",
        "      <th></th>\n",
        "    </tr>\n",
        "  </thead>\n",
        "  <tbody>\n",
        "    <tr>\n",
        "      <th>0</th>\n",
        "      <td>   0</td>\n",
        "      <td>   0</td>\n",
        "      <td>   0</td>\n",
        "      <td> 0</td>\n",
        "      <td>   2</td>\n",
        "      <td>  0</td>\n",
        "      <td>   0</td>\n",
        "      <td> 176</td>\n",
        "      <td>  0</td>\n",
        "      <td>   0</td>\n",
        "      <td>  178</td>\n",
        "    </tr>\n",
        "    <tr>\n",
        "      <th>1</th>\n",
        "      <td> 107</td>\n",
        "      <td>   0</td>\n",
        "      <td>   0</td>\n",
        "      <td> 0</td>\n",
        "      <td>  47</td>\n",
        "      <td>  0</td>\n",
        "      <td>   0</td>\n",
        "      <td>   0</td>\n",
        "      <td> 27</td>\n",
        "      <td>   1</td>\n",
        "      <td>  182</td>\n",
        "    </tr>\n",
        "    <tr>\n",
        "      <th>2</th>\n",
        "      <td>  20</td>\n",
        "      <td>   6</td>\n",
        "      <td>   0</td>\n",
        "      <td> 1</td>\n",
        "      <td>   3</td>\n",
        "      <td>  0</td>\n",
        "      <td>   3</td>\n",
        "      <td>   0</td>\n",
        "      <td> 45</td>\n",
        "      <td>  99</td>\n",
        "      <td>  177</td>\n",
        "    </tr>\n",
        "    <tr>\n",
        "      <th>3</th>\n",
        "      <td>   6</td>\n",
        "      <td> 155</td>\n",
        "      <td>   0</td>\n",
        "      <td> 0</td>\n",
        "      <td>   0</td>\n",
        "      <td>  0</td>\n",
        "      <td>  11</td>\n",
        "      <td>   0</td>\n",
        "      <td>  1</td>\n",
        "      <td>  10</td>\n",
        "      <td>  183</td>\n",
        "    </tr>\n",
        "    <tr>\n",
        "      <th>4</th>\n",
        "      <td>   0</td>\n",
        "      <td>   0</td>\n",
        "      <td>   0</td>\n",
        "      <td> 3</td>\n",
        "      <td> 154</td>\n",
        "      <td>  9</td>\n",
        "      <td>  15</td>\n",
        "      <td>   0</td>\n",
        "      <td>  0</td>\n",
        "      <td>   0</td>\n",
        "      <td>  181</td>\n",
        "    </tr>\n",
        "    <tr>\n",
        "      <th>5</th>\n",
        "      <td>   6</td>\n",
        "      <td>  74</td>\n",
        "      <td>   2</td>\n",
        "      <td> 0</td>\n",
        "      <td>   4</td>\n",
        "      <td>  0</td>\n",
        "      <td>  48</td>\n",
        "      <td>   0</td>\n",
        "      <td>  0</td>\n",
        "      <td>  48</td>\n",
        "      <td>  182</td>\n",
        "    </tr>\n",
        "    <tr>\n",
        "      <th>6</th>\n",
        "      <td>   6</td>\n",
        "      <td>   0</td>\n",
        "      <td> 174</td>\n",
        "      <td> 0</td>\n",
        "      <td>   0</td>\n",
        "      <td>  0</td>\n",
        "      <td>   0</td>\n",
        "      <td>   1</td>\n",
        "      <td>  0</td>\n",
        "      <td>   0</td>\n",
        "      <td>  181</td>\n",
        "    </tr>\n",
        "    <tr>\n",
        "      <th>7</th>\n",
        "      <td>   1</td>\n",
        "      <td>   0</td>\n",
        "      <td>   0</td>\n",
        "      <td> 0</td>\n",
        "      <td>   3</td>\n",
        "      <td> 17</td>\n",
        "      <td> 150</td>\n",
        "      <td>   0</td>\n",
        "      <td>  0</td>\n",
        "      <td>   8</td>\n",
        "      <td>  179</td>\n",
        "    </tr>\n",
        "    <tr>\n",
        "      <th>8</th>\n",
        "      <td>  90</td>\n",
        "      <td>  51</td>\n",
        "      <td>   2</td>\n",
        "      <td> 0</td>\n",
        "      <td>   3</td>\n",
        "      <td>  0</td>\n",
        "      <td>  15</td>\n",
        "      <td>   0</td>\n",
        "      <td>  0</td>\n",
        "      <td>  13</td>\n",
        "      <td>  174</td>\n",
        "    </tr>\n",
        "    <tr>\n",
        "      <th>9</th>\n",
        "      <td>   1</td>\n",
        "      <td> 146</td>\n",
        "      <td>   0</td>\n",
        "      <td> 0</td>\n",
        "      <td>  14</td>\n",
        "      <td>  4</td>\n",
        "      <td>  14</td>\n",
        "      <td>   0</td>\n",
        "      <td>  0</td>\n",
        "      <td>   1</td>\n",
        "      <td>  180</td>\n",
        "    </tr>\n",
        "    <tr>\n",
        "      <th>All</th>\n",
        "      <td> 237</td>\n",
        "      <td> 432</td>\n",
        "      <td> 178</td>\n",
        "      <td> 4</td>\n",
        "      <td> 230</td>\n",
        "      <td> 30</td>\n",
        "      <td> 256</td>\n",
        "      <td> 177</td>\n",
        "      <td> 73</td>\n",
        "      <td> 180</td>\n",
        "      <td> 1797</td>\n",
        "    </tr>\n",
        "  </tbody>\n",
        "</table>\n",
        "<p>11 rows \u00d7 11 columns</p>\n",
        "</div>"
       ],
       "metadata": {},
       "output_type": "pyout",
       "prompt_number": 4,
       "text": [
        "Clusters        0    1    2  3    4   5    6    7   8    9   All\n",
        "Ground truth                                                    \n",
        "0               0    0    0  0    2   0    0  176   0    0   178\n",
        "1             107    0    0  0   47   0    0    0  27    1   182\n",
        "2              20    6    0  1    3   0    3    0  45   99   177\n",
        "3               6  155    0  0    0   0   11    0   1   10   183\n",
        "4               0    0    0  3  154   9   15    0   0    0   181\n",
        "5               6   74    2  0    4   0   48    0   0   48   182\n",
        "6               6    0  174  0    0   0    0    1   0    0   181\n",
        "7               1    0    0  0    3  17  150    0   0    8   179\n",
        "8              90   51    2  0    3   0   15    0   0   13   174\n",
        "9               1  146    0  0   14   4   14    0   0    1   180\n",
        "All           237  432  178  4  230  30  256  177  73  180  1797\n",
        "\n",
        "[11 rows x 11 columns]"
       ]
      }
     ],
     "prompt_number": 4
    },
    {
     "cell_type": "code",
     "collapsed": false,
     "input": [
      "# How good is the results?\n",
      "from sklearn import metrics\n",
      "metrics.adjusted_rand_score(ground_truth,clustering.labels_)"
     ],
     "language": "python",
     "metadata": {},
     "outputs": [
      {
       "metadata": {},
       "output_type": "pyout",
       "prompt_number": 5,
       "text": [
        "0.51463943542053603"
       ]
      }
     ],
     "prompt_number": 5
    },
    {
     "cell_type": "code",
     "collapsed": false,
     "input": [
      "dist = clustering.fit_transform(Cx)\n",
      "print np.min(dist,axis=0)\n",
      "print np.argmin(dist,axis=0)"
     ],
     "language": "python",
     "metadata": {},
     "outputs": [
      {
       "output_type": "stream",
       "stream": "stdout",
       "text": [
        "[  2.63928052   3.27313242   2.32088881  20.12704663   3.51263982\n",
        "   4.25806578   3.67317681   2.15597327   4.12493572   3.67969141]\n",
        "[1327  448  272  873   97  467  983  682  979  833]\n"
       ]
      }
     ],
     "prompt_number": 6
    },
    {
     "cell_type": "code",
     "collapsed": false,
     "input": [
      "import matplotlib.pyplot as plt\n",
      "for k,img in enumerate(np.argmin(dist,axis=0)):\n",
      "    cluster = clustering.labels_[img]\n",
      "    plt.subplot(2, 5, cluster)\n",
      "    plt.imshow(digits.images[img],cmap='binary',interpolation='none')\n",
      "    plt.title('cl '+str(cluster))\n",
      "plt.show()"
     ],
     "language": "python",
     "metadata": {},
     "outputs": [
      {
       "metadata": {},
       "output_type": "display_data",
       "png": "[encoded data removed]",
       "text": [
        "<matplotlib.figure.Figure at 0x17ceacf8>"
       ]
      }
     ],
     "prompt_number": 7
    },
    {
     "cell_type": "code",
     "collapsed": false,
     "input": [
      "inertia = list()\n",
      "delta_inertia = list()\n",
      "for k in range(1,21):\n",
      "    clustering = KMeans(n_clusters=k, n_init=10, random_state=1)\n",
      "    clustering.fit(Cx)\n",
      "    if inertia:\n",
      "        delta_inertia.append(inertia[-1] - clustering.inertia_)\n",
      "    inertia.append(clustering.inertia_)"
     ],
     "language": "python",
     "metadata": {},
     "outputs": [
      {
       "output_type": "stream",
       "stream": "stdout",
       "text": [
        "2 9189.0 "
       ]
      },
      {
       "output_type": "stream",
       "stream": "stdout",
       "text": [
        "3 6581.0 "
       ]
      },
      {
       "output_type": "stream",
       "stream": "stdout",
       "text": [
        "4 4721.0 "
       ]
      },
      {
       "output_type": "stream",
       "stream": "stdout",
       "text": [
        "5 4010.0 "
       ]
      },
      {
       "output_type": "stream",
       "stream": "stdout",
       "text": [
        "6 3723.0 "
       ]
      },
      {
       "output_type": "stream",
       "stream": "stdout",
       "text": [
        "7 3245.0 "
       ]
      },
      {
       "output_type": "stream",
       "stream": "stdout",
       "text": [
        "8 2981.0 "
       ]
      },
      {
       "output_type": "stream",
       "stream": "stdout",
       "text": [
        "9 3127.0 "
       ]
      },
      {
       "output_type": "stream",
       "stream": "stdout",
       "text": [
        "10 2460.0 "
       ]
      },
      {
       "output_type": "stream",
       "stream": "stdout",
       "text": [
        "11 2183.0 "
       ]
      },
      {
       "output_type": "stream",
       "stream": "stdout",
       "text": [
        "12 2326.0 "
       ]
      },
      {
       "output_type": "stream",
       "stream": "stdout",
       "text": [
        "13 2027.0 "
       ]
      },
      {
       "output_type": "stream",
       "stream": "stdout",
       "text": [
        "14 875.0 "
       ]
      },
      {
       "output_type": "stream",
       "stream": "stdout",
       "text": [
        "15 1563.0 "
       ]
      },
      {
       "output_type": "stream",
       "stream": "stdout",
       "text": [
        "16 1596.0 "
       ]
      },
      {
       "output_type": "stream",
       "stream": "stdout",
       "text": [
        "17 1959.0 "
       ]
      },
      {
       "output_type": "stream",
       "stream": "stdout",
       "text": [
        "18 978.0 "
       ]
      },
      {
       "output_type": "stream",
       "stream": "stdout",
       "text": [
        "19 1151.0 "
       ]
      },
      {
       "output_type": "stream",
       "stream": "stdout",
       "text": [
        "20 935.0\n"
       ]
      }
     ],
     "prompt_number": 16
    },
    {
     "cell_type": "code",
     "collapsed": false,
     "input": [
      "len([k for k in range(1,21)])"
     ],
     "language": "python",
     "metadata": {},
     "outputs": [
      {
       "metadata": {},
       "output_type": "pyout",
       "prompt_number": 13,
       "text": [
        "19"
       ]
      }
     ],
     "prompt_number": 13
    },
    {
     "cell_type": "code",
     "collapsed": false,
     "input": [
      "import matplotlib.pyplot as plt\n",
      "plt.figure()\n",
      "plt.plot([k for k in range(2,21)], delta_inertia, 'ko-')\n",
      "plt.xlabel('Number of clusters')\n",
      "plt.ylabel('Rate of change of inertia')\n",
      "plt.show()"
     ],
     "language": "python",
     "metadata": {},
     "outputs": [
      {
       "metadata": {},
       "output_type": "display_data",
       "png": "[encoded data removed]",
       "text": [
        "<matplotlib.figure.Figure at 0x18469b70>"
       ]
      }
     ],
     "prompt_number": 24
    },
    {
     "cell_type": "heading",
     "level": 1,
     "metadata": {},
     "source": [
      "Mini-batch K-means"
     ]
    },
    {
     "cell_type": "code",
     "collapsed": false,
     "input": [
      "from sklearn.cluster import MiniBatchKMeans\n",
      "batch_clustering = MiniBatchKMeans(n_clusters=10, random_state=1)\n",
      "\n",
      "batch = 100\n",
      "guessed_labels = list()\n",
      "inertia = 0\n",
      "for row in range(0,len(Cx),batch):\n",
      "    if row+batch < len(Cx):\n",
      "        feed = Cx[row:row+batch,:]\n",
      "    else:\n",
      "        feed = Cx[row:,:]\n",
      "    batch_clustering.partial_fit(feed)\n",
      "    # We have to stack results in a list, because MiniBatchKMean\n",
      "    # does not take track of all the batches\n",
      "    guessed_labels.append(batch_clustering.labels_)\n",
      "    inertia += batch_clustering.inertia_\n",
      "\n",
      "# NumPy hstack turns a list of arrays into an array\n",
      "# by inspecting the variable guess_labels you can know \n",
      "# the assigned cluster\n",
      "guessed_labels = np.hstack(guessed_labels)\n",
      "\n",
      "print \"Kmeans inertia: %0.1f\\nMiniBatchKmeans inertia: %0.1f\" % (clustering.inertia_,inertia)\n"
     ],
     "language": "python",
     "metadata": {},
     "outputs": [
      {
       "output_type": "stream",
       "stream": "stdout",
       "text": [
        "Kmeans inertia: 48591.7\n",
        "MiniBatchKmeans inertia: 67027.5\n"
       ]
      }
     ],
     "prompt_number": 51
    },
    {
     "cell_type": "code",
     "collapsed": false,
     "input": [
      "# How good is the results?\n",
      "from sklearn import metrics\n",
      "metrics.adjusted_rand_score(ground_truth,guessed_labels)"
     ],
     "language": "python",
     "metadata": {},
     "outputs": [
      {
       "metadata": {},
       "output_type": "pyout",
       "prompt_number": 100,
       "text": [
        "0.57337583103264378"
       ]
      }
     ],
     "prompt_number": 100
    },
    {
     "cell_type": "heading",
     "level": 1,
     "metadata": {},
     "source": [
      "Hierarchical clustering"
     ]
    },
    {
     "cell_type": "code",
     "collapsed": false,
     "input": [
      "from sklearn.cluster import AgglomerativeClustering\n",
      "# Affinity = {\u201ceuclidean\u201d, \u201cl1\u201d, \u201cl2\u201d, \u201cmanhattan\u201d, \u201ccosine\u201d}\n",
      "# Linkage = {\u201cward\u201d, \u201ccomplete\u201d, \u201caverage\u201d}\n",
      "Hclustering = AgglomerativeClustering(n_clusters=10, affinity='euclidean', linkage='ward')\n",
      "Hclustering.fit(Cx)\n",
      "\n",
      "ms = np.column_stack((ground_truth,Hclustering.labels_))\n",
      "df = pd.DataFrame(ms, columns = ['Ground truth','Clusters'])\n",
      "pd.crosstab(df['Ground truth'], df['Clusters'], margins=True)"
     ],
     "language": "python",
     "metadata": {},
     "outputs": [
      {
       "html": [
        "<div style=\"max-height:1000px;max-width:1500px;overflow:auto;\">\n",
        "<table border=\"1\" class=\"dataframe\">\n",
        "  <thead>\n",
        "    <tr style=\"text-align: right;\">\n",
        "      <th>Clusters</th>\n",
        "      <th>0</th>\n",
        "      <th>1</th>\n",
        "      <th>2</th>\n",
        "      <th>3</th>\n",
        "      <th>4</th>\n",
        "      <th>5</th>\n",
        "      <th>6</th>\n",
        "      <th>7</th>\n",
        "      <th>8</th>\n",
        "      <th>9</th>\n",
        "      <th>All</th>\n",
        "    </tr>\n",
        "    <tr>\n",
        "      <th>Ground truth</th>\n",
        "      <th></th>\n",
        "      <th></th>\n",
        "      <th></th>\n",
        "      <th></th>\n",
        "      <th></th>\n",
        "      <th></th>\n",
        "      <th></th>\n",
        "      <th></th>\n",
        "      <th></th>\n",
        "      <th></th>\n",
        "      <th></th>\n",
        "    </tr>\n",
        "  </thead>\n",
        "  <tbody>\n",
        "    <tr>\n",
        "      <th>0</th>\n",
        "      <td>   0</td>\n",
        "      <td>   0</td>\n",
        "      <td>   0</td>\n",
        "      <td> 0</td>\n",
        "      <td>   0</td>\n",
        "      <td> 178</td>\n",
        "      <td>   0</td>\n",
        "      <td>   0</td>\n",
        "      <td>  0</td>\n",
        "      <td>   0</td>\n",
        "      <td>  178</td>\n",
        "    </tr>\n",
        "    <tr>\n",
        "      <th>1</th>\n",
        "      <td>   1</td>\n",
        "      <td>  27</td>\n",
        "      <td>  61</td>\n",
        "      <td> 0</td>\n",
        "      <td>   0</td>\n",
        "      <td>   0</td>\n",
        "      <td>   0</td>\n",
        "      <td>  93</td>\n",
        "      <td>  0</td>\n",
        "      <td>   0</td>\n",
        "      <td>  182</td>\n",
        "    </tr>\n",
        "    <tr>\n",
        "      <th>2</th>\n",
        "      <td>   0</td>\n",
        "      <td> 129</td>\n",
        "      <td>   0</td>\n",
        "      <td> 1</td>\n",
        "      <td>   1</td>\n",
        "      <td>   0</td>\n",
        "      <td>   0</td>\n",
        "      <td>  46</td>\n",
        "      <td>  0</td>\n",
        "      <td>   0</td>\n",
        "      <td>  177</td>\n",
        "    </tr>\n",
        "    <tr>\n",
        "      <th>3</th>\n",
        "      <td>   0</td>\n",
        "      <td>   4</td>\n",
        "      <td>   0</td>\n",
        "      <td> 0</td>\n",
        "      <td> 160</td>\n",
        "      <td>   0</td>\n",
        "      <td>   0</td>\n",
        "      <td>  19</td>\n",
        "      <td>  0</td>\n",
        "      <td>   0</td>\n",
        "      <td>  183</td>\n",
        "    </tr>\n",
        "    <tr>\n",
        "      <th>4</th>\n",
        "      <td>   1</td>\n",
        "      <td>   0</td>\n",
        "      <td> 165</td>\n",
        "      <td> 1</td>\n",
        "      <td>   0</td>\n",
        "      <td>   0</td>\n",
        "      <td>   0</td>\n",
        "      <td>   4</td>\n",
        "      <td> 10</td>\n",
        "      <td>   0</td>\n",
        "      <td>  181</td>\n",
        "    </tr>\n",
        "    <tr>\n",
        "      <th>5</th>\n",
        "      <td> 148</td>\n",
        "      <td>   1</td>\n",
        "      <td>   0</td>\n",
        "      <td> 0</td>\n",
        "      <td>  31</td>\n",
        "      <td>   0</td>\n",
        "      <td>   1</td>\n",
        "      <td>   1</td>\n",
        "      <td>  0</td>\n",
        "      <td>   0</td>\n",
        "      <td>  182</td>\n",
        "    </tr>\n",
        "    <tr>\n",
        "      <th>6</th>\n",
        "      <td>   0</td>\n",
        "      <td>   0</td>\n",
        "      <td>   0</td>\n",
        "      <td> 0</td>\n",
        "      <td>   0</td>\n",
        "      <td>   0</td>\n",
        "      <td> 180</td>\n",
        "      <td>   1</td>\n",
        "      <td>  0</td>\n",
        "      <td>   0</td>\n",
        "      <td>  181</td>\n",
        "    </tr>\n",
        "    <tr>\n",
        "      <th>7</th>\n",
        "      <td>   1</td>\n",
        "      <td>   0</td>\n",
        "      <td>   0</td>\n",
        "      <td> 0</td>\n",
        "      <td>   0</td>\n",
        "      <td>   0</td>\n",
        "      <td>   0</td>\n",
        "      <td>   1</td>\n",
        "      <td>  8</td>\n",
        "      <td> 169</td>\n",
        "      <td>  179</td>\n",
        "    </tr>\n",
        "    <tr>\n",
        "      <th>8</th>\n",
        "      <td>   0</td>\n",
        "      <td>   3</td>\n",
        "      <td>   1</td>\n",
        "      <td> 0</td>\n",
        "      <td>   1</td>\n",
        "      <td>   0</td>\n",
        "      <td>   0</td>\n",
        "      <td> 169</td>\n",
        "      <td>  0</td>\n",
        "      <td>   0</td>\n",
        "      <td>  174</td>\n",
        "    </tr>\n",
        "    <tr>\n",
        "      <th>9</th>\n",
        "      <td>   2</td>\n",
        "      <td>   0</td>\n",
        "      <td>  15</td>\n",
        "      <td> 0</td>\n",
        "      <td> 133</td>\n",
        "      <td>   0</td>\n",
        "      <td>   1</td>\n",
        "      <td>  26</td>\n",
        "      <td>  3</td>\n",
        "      <td>   0</td>\n",
        "      <td>  180</td>\n",
        "    </tr>\n",
        "    <tr>\n",
        "      <th>All</th>\n",
        "      <td> 153</td>\n",
        "      <td> 164</td>\n",
        "      <td> 242</td>\n",
        "      <td> 2</td>\n",
        "      <td> 326</td>\n",
        "      <td> 178</td>\n",
        "      <td> 182</td>\n",
        "      <td> 360</td>\n",
        "      <td> 21</td>\n",
        "      <td> 169</td>\n",
        "      <td> 1797</td>\n",
        "    </tr>\n",
        "  </tbody>\n",
        "</table>\n",
        "<p>11 rows \u00d7 11 columns</p>\n",
        "</div>"
       ],
       "metadata": {},
       "output_type": "pyout",
       "prompt_number": 97,
       "text": [
        "Clusters        0    1    2  3    4    5    6    7   8    9   All\n",
        "Ground truth                                                     \n",
        "0               0    0    0  0    0  178    0    0   0    0   178\n",
        "1               1   27   61  0    0    0    0   93   0    0   182\n",
        "2               0  129    0  1    1    0    0   46   0    0   177\n",
        "3               0    4    0  0  160    0    0   19   0    0   183\n",
        "4               1    0  165  1    0    0    0    4  10    0   181\n",
        "5             148    1    0  0   31    0    1    1   0    0   182\n",
        "6               0    0    0  0    0    0  180    1   0    0   181\n",
        "7               1    0    0  0    0    0    0    1   8  169   179\n",
        "8               0    3    1  0    1    0    0  169   0    0   174\n",
        "9               2    0   15  0  133    0    1   26   3    0   180\n",
        "All           153  164  242  2  326  178  182  360  21  169  1797\n",
        "\n",
        "[11 rows x 11 columns]"
       ]
      }
     ],
     "prompt_number": 97
    },
    {
     "cell_type": "code",
     "collapsed": false,
     "input": [
      "# How good is the results?\n",
      "from sklearn import metrics\n",
      "metrics.adjusted_rand_score(ground_truth,Hclustering.labels_)"
     ],
     "language": "python",
     "metadata": {},
     "outputs": [
      {
       "metadata": {},
       "output_type": "pyout",
       "prompt_number": 101,
       "text": [
        "0.64866268144435724"
       ]
      }
     ],
     "prompt_number": 101
    },
    {
     "cell_type": "heading",
     "level": 1,
     "metadata": {},
     "source": [
      "DBScan"
     ]
    },
    {
     "cell_type": "code",
     "collapsed": false,
     "input": [
      "from sklearn.cluster import DBSCAN\n",
      "from collections import Counter\n",
      "for e in range(10,50, 1):\n",
      "    l = float(e)/10.\n",
      "    DB = DBSCAN(eps=l, min_samples=25, random_state=1)\n",
      "    DB.fit(Cx)\n",
      "    print l, unique(DB.labels_)\n",
      "    print Counter(DB.labels_)"
     ],
     "language": "python",
     "metadata": {},
     "outputs": [
      {
       "output_type": "stream",
       "stream": "stdout",
       "text": [
        "1.0 [-1]\n",
        "Counter({-1: 1797})\n",
        "1.1"
       ]
      },
      {
       "output_type": "stream",
       "stream": "stdout",
       "text": [
        " [-1]\n",
        "Counter({-1: 1797})\n",
        "1.2"
       ]
      },
      {
       "output_type": "stream",
       "stream": "stdout",
       "text": [
        " [-1]\n",
        "Counter({-1: 1797})\n",
        "1.3"
       ]
      },
      {
       "output_type": "stream",
       "stream": "stdout",
       "text": [
        " [-1]\n",
        "Counter({-1: 1797})\n",
        "1.4"
       ]
      },
      {
       "output_type": "stream",
       "stream": "stdout",
       "text": [
        " [-1]\n",
        "Counter({-1: 1797})\n",
        "1.5"
       ]
      },
      {
       "output_type": "stream",
       "stream": "stdout",
       "text": [
        " [-1]\n",
        "Counter({-1: 1797})\n",
        "1.6"
       ]
      },
      {
       "output_type": "stream",
       "stream": "stdout",
       "text": [
        " [-1  0]\n",
        "Counter({-1: 1790, 0: 7})\n",
        "1.7"
       ]
      },
      {
       "output_type": "stream",
       "stream": "stdout",
       "text": [
        " [-1  0  1]\n",
        "Counter({-1: 1782, 1: 8, 0: 7})\n",
        "1.8"
       ]
      },
      {
       "output_type": "stream",
       "stream": "stdout",
       "text": [
        " [-1  0  1]\n",
        "Counter({-1: 1780, 1: 9, 0: 8})\n",
        "1.9"
       ]
      },
      {
       "output_type": "stream",
       "stream": "stdout",
       "text": [
        " [-1  0]\n",
        "Counter({-1: 1766, 0: 31})\n",
        "2.0"
       ]
      },
      {
       "output_type": "stream",
       "stream": "stdout",
       "text": [
        " [-1  0]\n",
        "Counter({-1: 1765, 0: 32})\n",
        "2.1"
       ]
      },
      {
       "output_type": "stream",
       "stream": "stdout",
       "text": [
        " [-1  0  1]\n",
        "Counter({-1: 1756, 0: 35, 1: 6})\n",
        "2.2"
       ]
      },
      {
       "output_type": "stream",
       "stream": "stdout",
       "text": [
        " [-1  0  1  2]\n",
        "Counter({-1: 1749, 0: 37, 2: 6, 1: 5})\n",
        "2.3"
       ]
      },
      {
       "output_type": "stream",
       "stream": "stdout",
       "text": [
        " [-1  0  1  2]\n",
        "Counter({-1: 1744, 0: 40, 2: 8, 1: 5})\n",
        "2.4"
       ]
      },
      {
       "output_type": "stream",
       "stream": "stdout",
       "text": [
        " [-1  0  1  2  3]\n",
        "Counter({-1: 1729, 0: 42, 1: 16, 2: 5, 3: 5})\n",
        "2.5"
       ]
      },
      {
       "output_type": "stream",
       "stream": "stdout",
       "text": [
        " [-1  0  1  2  3  4  5  6]\n",
        "Counter({-1: 1691, 0: 44, 2: 20, 1: 15, 3: 12, 4: 6, 5: 5, 6: 4})\n",
        "2.6"
       ]
      },
      {
       "output_type": "stream",
       "stream": "stdout",
       "text": [
        " [-1  0  1  2  3  4  5  6  7  8  9 10 11 12 13]\n",
        "Counter({-1: 1617, 0: 45, 4: 32, 1: 27, 5: 20, 3: 10, 7: 7, 8: 6, 2: 5, 6: 5, 9: 5, 10: 5, 11: 5, 13: 5, 12: 3})\n",
        "2.7"
       ]
      },
      {
       "output_type": "stream",
       "stream": "stdout",
       "text": [
        " [-1  0  1  2  3  4  5  6  7  8  9 10 11 12 13 14]\n",
        "Counter({-1: 1546, 1: 75, 0: 50, 6: 42, 3: 15, 4: 11, 7: 10, 2: 6, 8: 6, 12: 6, 5: 5, 9: 5, 10: 5, 11: 5, 13: 5, 14: 5})\n",
        "2.8"
       ]
      },
      {
       "output_type": "stream",
       "stream": "stdout",
       "text": [
        " [-1  0  1  2  3  4  5  6  7  8  9 10 11 12 13]\n",
        "Counter({-1: 1491, 1: 85, 6: 59, 0: 52, 7: 30, 3: 22, 4: 12, 2: 7, 11: 7, 12: 7, 5: 6, 8: 5, 9: 5, 13: 5, 10: 4})\n",
        "2.9"
       ]
      },
      {
       "output_type": "stream",
       "stream": "stdout",
       "text": [
        " [-1  0  1  2  3  4  5  6  7  8  9 10 11 12 13 14 15 16]\n",
        "Counter({-1: 1414, 2: 110, 1: 97, 0: 60, 5: 29, 6: 15, 4: 9, 14: 8, 12: 7, 15: 7, 3: 6, 7: 6, 8: 5, 10: 5, 11: 5, 13: 5, 16: 5, 9: 4})\n",
        "3.0"
       ]
      },
      {
       "output_type": "stream",
       "stream": "stdout",
       "text": [
        " [-1  0  1  2  3  4  5  6  7  8  9 10 11 12 13 14 15 16 17 18 19 20 21]\n",
        "Counter({-1: 1344, 2: 116, 1: 108, 0: 63, 5: 32, 6: 16, 3: 15, 13: 10, 15: 10, 4: 9, 18: 8, 12: 7, 14: 7, 20: 7, 7: 6, 8: 6, 16: 6, 10: 5, 11: 5, 17: 5, 19: 5, 9: 4, 21: 3})\n",
        "3.1"
       ]
      },
      {
       "output_type": "stream",
       "stream": "stdout",
       "text": [
        " [-1  0  1  2  3  4  5  6  7  8  9 10 11 12 13 14 15 16 17 18 19 20 21 22 23\n",
        " 24 25 26 27]\n",
        "Counter({-1: 1240, 4: 122, 1: 118, 0: 74, 8: 40, 2: 29, 5: 15, 13: 15, 10: 12, 17: 12, 14: 11, 7: 10, 15: 10, 9: 9, 3: 8, 11: 6, 12: 6, 16: 6, 18: 6, 24: 6, 6: 5, 19: 5, 20: 5, 21: 5, 22: 5, 23: 5, 25: 4, 26: 4, 27: 4})\n",
        "3.2"
       ]
      },
      {
       "output_type": "stream",
       "stream": "stdout",
       "text": [
        " [-1  0  1  2  3  4  5  6  7  8  9 10 11 12 13 14 15 16 17 18 19 20 21]\n",
        "Counter({-1: 1137, 1: 138, 4: 136, 0: 81, 3: 69, 2: 66, 9: 42, 5: 27, 7: 13, 10: 11, 8: 10, 6: 8, 13: 7, 11: 6, 12: 6, 18: 6, 14: 5, 15: 5, 16: 5, 17: 5, 19: 5, 21: 5, 20: 4})\n",
        "3.3"
       ]
      },
      {
       "output_type": "stream",
       "stream": "stdout",
       "text": [
        " [-1  0  1  2  3  4  5  6  7  8  9 10 11 12 13 14 15 16 17 18 19 20 21 22 23\n",
        " 24 25 26 27 28 29 30]\n",
        "Counter({-1: 1027, 1: 143, 5: 142, 0: 85, 4: 83, 2: 69, 3: 56, 6: 30, 12: 15, 9: 14, 10: 10, 7: 8, 18: 8, 19: 8, 11: 7, 17: 7, 23: 7, 13: 6, 15: 6, 22: 6, 25: 6, 27: 6, 28: 6, 8: 5, 14: 5, 16: 5, 21: 5, 26: 5, 29: 5, 20: 4, 24: 4, 30: 4})\n",
        "3.4"
       ]
      },
      {
       "output_type": "stream",
       "stream": "stdout",
       "text": [
        " [-1  0  1  2  3  4  5  6  7  8  9 10 11 12 13 14 15 16 17 18 19 20 21 22 23\n",
        " 24 25 26 27 28 29 30 31 32]\n",
        "Counter({-1: 904, 3: 152, 1: 148, 0: 94, 5: 93, 2: 80, 4: 77, 6: 35, 10: 16, 8: 15, 11: 15, 15: 15, 12: 13, 20: 12, 19: 11, 7: 10, 14: 9, 18: 8, 31: 8, 9: 7, 25: 7, 28: 7, 32: 7, 16: 6, 27: 6, 13: 5, 17: 5, 22: 5, 24: 5, 29: 5, 30: 5, 21: 4, 23: 4, 26: 4})\n",
        "3.5"
       ]
      },
      {
       "output_type": "stream",
       "stream": "stdout",
       "text": [
        " [-1  0  1  2  3  4  5  6  7  8  9 10 11 12 13 14 15 16 17 18 19 20 21 22 23\n",
        " 24 25 26 27 28 29 30 31]\n",
        "Counter({-1: 808, 1: 158, 4: 154, 0: 105, 6: 98, 5: 94, 3: 89, 15: 61, 2: 37, 7: 29, 10: 24, 8: 17, 11: 15, 14: 9, 19: 9, 9: 7, 12: 7, 17: 7, 25: 7, 16: 6, 13: 5, 18: 5, 20: 5, 23: 5, 24: 5, 26: 5, 29: 5, 21: 4, 22: 4, 27: 4, 31: 4, 28: 3, 30: 2})\n",
        "3.6"
       ]
      },
      {
       "output_type": "stream",
       "stream": "stdout",
       "text": [
        " [-1  0  1  2  3  4  5  6  7  8  9 10 11 12 13 14 15 16 17 18 19 20 21 22 23]\n",
        "Counter({-1: 724, 4: 179, 1: 166, 2: 154, 0: 147, 5: 113, 3: 109, 6: 61, 9: 27, 7: 22, 10: 15, 11: 8, 17: 8, 12: 7, 16: 7, 8: 6, 13: 6, 15: 6, 14: 5, 18: 5, 19: 5, 21: 5, 22: 5, 23: 4, 20: 3})\n",
        "3.7"
       ]
      },
      {
       "output_type": "stream",
       "stream": "stdout",
       "text": [
        " [-1  0  1  2  3  4  5  6  7  8  9 10 11 12 13 14 15 16 17 18 19 20 21 22 23\n",
        " 24 25]\n",
        "Counter({-1: 624, 0: 387, 1: 171, 2: 157, 3: 118, 5: 117, 4: 62, 9: 31, 10: 15, 15: 11, 8: 9, 12: 9, 16: 8, 18: 8, 6: 7, 11: 7, 13: 7, 7: 6, 14: 6, 17: 6, 25: 6, 19: 5, 20: 5, 21: 5, 23: 5, 22: 3, 24: 2})\n",
        "3.8"
       ]
      },
      {
       "output_type": "stream",
       "stream": "stdout",
       "text": [
        " [-1  0  1  2  3  4  5  6  7  8  9 10 11 12 13 14 15 16 17 18]\n",
        "Counter({0: 614, -1: 548, 1: 172, 4: 125, 2: 123, 3: 78, 6: 34, 8: 16, 12: 13, 11: 12, 10: 9, 5: 8, 16: 7, 7: 6, 9: 6, 18: 6, 13: 5, 14: 5, 15: 5, 17: 5})\n",
        "3.9"
       ]
      },
      {
       "output_type": "stream",
       "stream": "stdout",
       "text": [
        " [-1  0  1  2  3  4  5  6  7  8  9 10 11 12 13]\n",
        "Counter({0: 794, -1: 487, 1: 172, 2: 128, 3: 125, 6: 17, 7: 16, 9: 12, 4: 9, 8: 9, 10: 7, 5: 6, 11: 5, 12: 5, 13: 5})\n",
        "4.0"
       ]
      },
      {
       "output_type": "stream",
       "stream": "stdout",
       "text": [
        " [-1  0  1  2  3  4  5  6  7  8  9 10 11]\n",
        "Counter({0: 985, -1: 414, 1: 174, 2: 133, 4: 23, 5: 17, 7: 12, 6: 10, 3: 9, 8: 7, 11: 7, 9: 4, 10: 2})\n",
        "4.1"
       ]
      },
      {
       "output_type": "stream",
       "stream": "stdout",
       "text": [
        " [-1  0  1  2  3  4  5  6]\n",
        "Counter({0: 1088, -1: 351, 1: 175, 2: 136, 4: 18, 5: 17, 3: 9, 6: 3})\n",
        "4.2"
       ]
      },
      {
       "output_type": "stream",
       "stream": "stdout",
       "text": [
        " [-1  0  1  2  3  4  5]\n",
        "Counter({0: 1151, -1: 304, 1: 176, 2: 136, 4: 19, 3: 9, 5: 2})\n",
        "4.3"
       ]
      },
      {
       "output_type": "stream",
       "stream": "stdout",
       "text": [
        " [-1  0  1  2  3  4  5  6]\n",
        "Counter({0: 1362, -1: 254, 1: 139, 3: 21, 2: 9, 4: 5, 5: 4, 6: 3})\n",
        "4.4"
       ]
      },
      {
       "output_type": "stream",
       "stream": "stdout",
       "text": [
        " [-1  0  1  2  3  4]\n",
        "Counter({0: 1387, -1: 232, 1: 141, 3: 23, 2: 9, 4: 5})\n",
        "4.5"
       ]
      },
      {
       "output_type": "stream",
       "stream": "stdout",
       "text": [
        " [-1  0  1  2  3  4  5]\n",
        "Counter({0: 1402, -1: 210, 1: 141, 3: 23, 2: 11, 4: 5, 5: 5})\n",
        "4.6"
       ]
      },
      {
       "output_type": "stream",
       "stream": "stdout",
       "text": [
        " [-1  0  1  2  3  4]\n",
        "Counter({0: 1575, -1: 184, 1: 23, 2: 5, 3: 5, 4: 5})\n",
        "4.7"
       ]
      },
      {
       "output_type": "stream",
       "stream": "stdout",
       "text": [
        " [-1  0  1  2  3  4]\n",
        "Counter({0: 1594, -1: 163, 1: 25, 2: 6, 3: 5, 4: 4})\n",
        "4.8"
       ]
      },
      {
       "output_type": "stream",
       "stream": "stdout",
       "text": [
        " [-1  0  1  2  3  4]\n",
        "Counter({0: 1614, -1: 143, 1: 25, 2: 7, 3: 5, 4: 3})\n",
        "4.9"
       ]
      },
      {
       "output_type": "stream",
       "stream": "stdout",
       "text": [
        " [-1  0  1  2  3]\n",
        "Counter({0: 1630, -1: 130, 1: 25, 2: 7, 3: 5})\n"
       ]
      }
     ],
     "prompt_number": 55
    },
    {
     "cell_type": "code",
     "collapsed": false,
     "input": [
      "from sklearn.cluster import DBSCAN\n",
      "DB = DBSCAN(eps=4.35, min_samples=25, random_state=1)\n",
      "DB.fit(Cx)\n",
      "\n",
      "from collections import Counter\n",
      "print Counter(DB.labels_)\n",
      "\n",
      "import matplotlib.pyplot as plt\n",
      "for k,cl in enumerate(np.unique(DB.labels_)):\n",
      "    if cl >= 0:\n",
      "        example = np.min(np.where(DB.labels_==cl))\n",
      "        plt.subplot(2, 3, k)\n",
      "        plt.imshow(digits.images[example],cmap='binary',interpolation='none')\n",
      "        plt.title('cl '+str(cl))\n",
      "plt.show()"
     ],
     "language": "python",
     "metadata": {},
     "outputs": [
      {
       "output_type": "stream",
       "stream": "stdout",
       "text": [
        "Counter({-1: 913, 4: 222, 1: 176, 3: 162, 0: 134, 2: 104, 5: 86})\n"
       ]
      },
      {
       "metadata": {},
       "output_type": "display_data",
       "png": "[encoded data removed]",
       "text": [
        "<matplotlib.figure.Figure at 0x18497b70>"
       ]
      }
     ],
     "prompt_number": 57
    },
    {
     "cell_type": "code",
     "collapsed": false,
     "input": [
      "ms = np.column_stack((ground_truth,DB.labels_))\n",
      "df = pd.DataFrame(ms, columns = ['Ground truth','Clusters'])\n",
      "pd.crosstab(df['Ground truth'], df['Clusters'], margins=True)"
     ],
     "language": "python",
     "metadata": {},
     "outputs": [
      {
       "html": [
        "<div style=\"max-height:1000px;max-width:1500px;overflow:auto;\">\n",
        "<table border=\"1\" class=\"dataframe\">\n",
        "  <thead>\n",
        "    <tr style=\"text-align: right;\">\n",
        "      <th>Clusters</th>\n",
        "      <th>-1</th>\n",
        "      <th>0</th>\n",
        "      <th>1</th>\n",
        "      <th>2</th>\n",
        "      <th>3</th>\n",
        "      <th>4</th>\n",
        "      <th>5</th>\n",
        "      <th>All</th>\n",
        "    </tr>\n",
        "    <tr>\n",
        "      <th>Ground truth</th>\n",
        "      <th></th>\n",
        "      <th></th>\n",
        "      <th></th>\n",
        "      <th></th>\n",
        "      <th></th>\n",
        "      <th></th>\n",
        "      <th></th>\n",
        "      <th></th>\n",
        "    </tr>\n",
        "  </thead>\n",
        "  <tbody>\n",
        "    <tr>\n",
        "      <th>0</th>\n",
        "      <td>   4</td>\n",
        "      <td>   0</td>\n",
        "      <td> 174</td>\n",
        "      <td>   0</td>\n",
        "      <td>   0</td>\n",
        "      <td>   0</td>\n",
        "      <td>  0</td>\n",
        "      <td>  178</td>\n",
        "    </tr>\n",
        "    <tr>\n",
        "      <th>1</th>\n",
        "      <td>  89</td>\n",
        "      <td>  93</td>\n",
        "      <td>   0</td>\n",
        "      <td>   0</td>\n",
        "      <td>   0</td>\n",
        "      <td>   0</td>\n",
        "      <td>  0</td>\n",
        "      <td>  182</td>\n",
        "    </tr>\n",
        "    <tr>\n",
        "      <th>2</th>\n",
        "      <td> 176</td>\n",
        "      <td>   1</td>\n",
        "      <td>   0</td>\n",
        "      <td>   0</td>\n",
        "      <td>   0</td>\n",
        "      <td>   0</td>\n",
        "      <td>  0</td>\n",
        "      <td>  177</td>\n",
        "    </tr>\n",
        "    <tr>\n",
        "      <th>3</th>\n",
        "      <td>  67</td>\n",
        "      <td>   0</td>\n",
        "      <td>   0</td>\n",
        "      <td>   1</td>\n",
        "      <td>   0</td>\n",
        "      <td> 115</td>\n",
        "      <td>  0</td>\n",
        "      <td>  183</td>\n",
        "    </tr>\n",
        "    <tr>\n",
        "      <th>4</th>\n",
        "      <td>  95</td>\n",
        "      <td>   0</td>\n",
        "      <td>   0</td>\n",
        "      <td>   0</td>\n",
        "      <td>   0</td>\n",
        "      <td>   0</td>\n",
        "      <td> 86</td>\n",
        "      <td>  181</td>\n",
        "    </tr>\n",
        "    <tr>\n",
        "      <th>5</th>\n",
        "      <td> 178</td>\n",
        "      <td>   0</td>\n",
        "      <td>   0</td>\n",
        "      <td>   0</td>\n",
        "      <td>   1</td>\n",
        "      <td>   3</td>\n",
        "      <td>  0</td>\n",
        "      <td>  182</td>\n",
        "    </tr>\n",
        "    <tr>\n",
        "      <th>6</th>\n",
        "      <td>  17</td>\n",
        "      <td>   2</td>\n",
        "      <td>   1</td>\n",
        "      <td>   0</td>\n",
        "      <td> 161</td>\n",
        "      <td>   0</td>\n",
        "      <td>  0</td>\n",
        "      <td>  181</td>\n",
        "    </tr>\n",
        "    <tr>\n",
        "      <th>7</th>\n",
        "      <td>  76</td>\n",
        "      <td>   0</td>\n",
        "      <td>   0</td>\n",
        "      <td> 103</td>\n",
        "      <td>   0</td>\n",
        "      <td>   0</td>\n",
        "      <td>  0</td>\n",
        "      <td>  179</td>\n",
        "    </tr>\n",
        "    <tr>\n",
        "      <th>8</th>\n",
        "      <td> 115</td>\n",
        "      <td>  38</td>\n",
        "      <td>   0</td>\n",
        "      <td>   0</td>\n",
        "      <td>   0</td>\n",
        "      <td>  21</td>\n",
        "      <td>  0</td>\n",
        "      <td>  174</td>\n",
        "    </tr>\n",
        "    <tr>\n",
        "      <th>9</th>\n",
        "      <td>  96</td>\n",
        "      <td>   0</td>\n",
        "      <td>   1</td>\n",
        "      <td>   0</td>\n",
        "      <td>   0</td>\n",
        "      <td>  83</td>\n",
        "      <td>  0</td>\n",
        "      <td>  180</td>\n",
        "    </tr>\n",
        "    <tr>\n",
        "      <th>All</th>\n",
        "      <td> 913</td>\n",
        "      <td> 134</td>\n",
        "      <td> 176</td>\n",
        "      <td> 104</td>\n",
        "      <td> 162</td>\n",
        "      <td> 222</td>\n",
        "      <td> 86</td>\n",
        "      <td> 1797</td>\n",
        "    </tr>\n",
        "  </tbody>\n",
        "</table>\n",
        "<p>11 rows \u00d7 8 columns</p>\n",
        "</div>"
       ],
       "metadata": {},
       "output_type": "pyout",
       "prompt_number": 58,
       "text": [
        "Clusters       -1    0    1    2    3    4   5   All\n",
        "Ground truth                                        \n",
        "0               4    0  174    0    0    0   0   178\n",
        "1              89   93    0    0    0    0   0   182\n",
        "2             176    1    0    0    0    0   0   177\n",
        "3              67    0    0    1    0  115   0   183\n",
        "4              95    0    0    0    0    0  86   181\n",
        "5             178    0    0    0    1    3   0   182\n",
        "6              17    2    1    0  161    0   0   181\n",
        "7              76    0    0  103    0    0   0   179\n",
        "8             115   38    0    0    0   21   0   174\n",
        "9              96    0    1    0    0   83   0   180\n",
        "All           913  134  176  104  162  222  86  1797\n",
        "\n",
        "[11 rows x 8 columns]"
       ]
      }
     ],
     "prompt_number": 58
    },
    {
     "cell_type": "heading",
     "level": 1,
     "metadata": {},
     "source": [
      "Euclidean distance easy tutorial"
     ]
    },
    {
     "cell_type": "code",
     "collapsed": false,
     "input": [
      "import numpy as np\n",
      "A = np.array([165, 55, 70])\n",
      "B = np.array([185, 60, 30])\n",
      "\n",
      "D = (A-B)\n",
      "D = D**2\n",
      "D = np.sqrt(np.sum(D))\n",
      "\n",
      "print D"
     ],
     "language": "python",
     "metadata": {},
     "outputs": [
      {
       "output_type": "stream",
       "stream": "stdout",
       "text": [
        "45.0\n"
       ]
      }
     ],
     "prompt_number": 41
    }
   ],
   "metadata": {}
  }
 ]
}