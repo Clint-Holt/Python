{
 "metadata": {
  "name": "",
  "signature": "sha256:c412c7feb255a056fc920aeb5467914d76d852ef7e489a850799f8fa90a38380"
 },
 "nbformat": 3,
 "nbformat_minor": 0,
 "worksheets": [
  {
   "cells": [
    {
     "cell_type": "heading",
     "level": 1,
     "metadata": {},
     "source": [
      "Pondering the Dilemma of Bias and Variance"
     ]
    },
    {
     "cell_type": "heading",
     "level": 2,
     "metadata": {},
     "source": [
      "Understanding bias and variance "
     ]
    },
    {
     "cell_type": "heading",
     "level": 2,
     "metadata": {},
     "source": [
      "Defining a strategy for picking the right model"
     ]
    },
    {
     "cell_type": "markdown",
     "metadata": {},
     "source": [
      "Regression\t<BR>\n",
      "\u2018mean_absolute_error\u2019\tsklearn.metrics.mean_absolute_error<BR>\n",
      "\u2018mean_squared_error\u2019\tsklearn.metrics.mean_squared_error<BR>\n",
      "\u2018r2\u2019\tsklearn.metrics.r2_score<BR>\n",
      "<P>\n",
      "Classification\t <BR>\n",
      "\u2018accuracy\u2019\tsklearn.metrics.accuracy_score<BR>\n",
      "\u2018average_precision\u2019\tsklearn.metrics.average_precision_score<BR>\n",
      "\u2018f1\u2019\tsklearn.metrics.f1_score<BR>\n",
      "\u2018precision\u2019\tsklearn.metrics.precision_score<BR>\n",
      "\u2018recall\u2019\tsklearn.metrics.recall_score<BR>\n",
      "\u2018roc_auc\u2019\tsklearn.metrics.roc_auc_score<BR>"
     ]
    },
    {
     "cell_type": "heading",
     "level": 2,
     "metadata": {},
     "source": [
      "Dividing between training, test and validation"
     ]
    },
    {
     "cell_type": "code",
     "collapsed": false,
     "input": [
      "from sklearn.datasets import load_boston\n",
      "boston = load_boston()\n",
      "X, y = boston.data, boston.target\n",
      "print X.shape, y.shape"
     ],
     "language": "python",
     "metadata": {},
     "outputs": [
      {
       "output_type": "stream",
       "stream": "stdout",
       "text": [
        "(506L, 13L) (506L,)\n"
       ]
      }
     ],
     "prompt_number": 233
    },
    {
     "cell_type": "code",
     "collapsed": false,
     "input": [
      "print boston.DESCR"
     ],
     "language": "python",
     "metadata": {},
     "outputs": [
      {
       "output_type": "stream",
       "stream": "stdout",
       "text": [
        "Boston House Prices dataset\n",
        "\n",
        "Notes\n",
        "------\n",
        "Data Set Characteristics:  \n",
        "\n",
        "    :Number of Instances: 506 \n",
        "\n",
        "    :Number of Attributes: 13 numeric/categorical predictive\n",
        "    \n",
        "    :Median Value (attribute 14) is usually the target\n",
        "\n",
        "    :Attribute Information (in order):\n",
        "        - CRIM     per capita crime rate by town\n",
        "        - ZN       proportion of residential land zoned for lots over 25,000 sq.ft.\n",
        "        - INDUS    proportion of non-retail business acres per town\n",
        "        - CHAS     Charles River dummy variable (= 1 if tract bounds river; 0 otherwise)\n",
        "        - NOX      nitric oxides concentration (parts per 10 million)\n",
        "        - RM       average number of rooms per dwelling\n",
        "        - AGE      proportion of owner-occupied units built prior to 1940\n",
        "        - DIS      weighted distances to five Boston employment centres\n",
        "        - RAD      index of accessibility to radial highways\n",
        "        - TAX      full-value property-tax rate per $10,000\n",
        "        - PTRATIO  pupil-teacher ratio by town\n",
        "        - B        1000(Bk - 0.63)^2 where Bk is the proportion of blacks by town\n",
        "        - LSTAT    % lower status of the population\n",
        "        - MEDV     Median value of owner-occupied homes in $1000's\n",
        "\n",
        "    :Missing Attribute Values: None\n",
        "\n",
        "    :Creator: Harrison, D. and Rubinfeld, D.L.\n",
        "\n",
        "This is a copy of UCI ML housing dataset.\n",
        "http://archive.ics.uci.edu/ml/datasets/Housing\n",
        "\n",
        "\n",
        "This dataset was taken from the StatLib library which is maintained at Carnegie Mellon University.\n",
        "\n",
        "The Boston house-price data of Harrison, D. and Rubinfeld, D.L. 'Hedonic\n",
        "prices and the demand for clean air', J. Environ. Economics & Management,\n",
        "vol.5, 81-102, 1978.   Used in Belsley, Kuh & Welsch, 'Regression diagnostics\n",
        "...', Wiley, 1980.   N.B. Various transformations are used in the table on\n",
        "pages 244-261 of the latter.\n",
        "\n",
        "The Boston house-price data has been used in many machine learning papers that address regression\n",
        "problems.   \n",
        "     \n",
        "**References**\n",
        "\n",
        "   - Belsley, Kuh & Welsch, 'Regression diagnostics: Identifying Influential Data and Sources of Collinearity', Wiley, 1980. 244-261.\n",
        "   - Quinlan,R. (1993). Combining Instance-Based and Model-Based Learning. In Proceedings on the Tenth International Conference of Machine Learning, 236-243, University of Massachusetts, Amherst. Morgan Kaufmann.\n",
        "   - many more! (see http://archive.ics.uci.edu/ml/datasets/Housing)\n",
        "\n"
       ]
      }
     ],
     "prompt_number": 242
    },
    {
     "cell_type": "code",
     "collapsed": false,
     "input": [
      "from sklearn.linear_model import LinearRegression\n",
      "from sklearn.metrics import mean_squared_error\n",
      "regression = LinearRegression()\n",
      "regression.fit(X,y)\n",
      "print 'Mean squared error: %.2f' % mean_squared_error(y_true=y, y_pred=regression.predict(X))"
     ],
     "language": "python",
     "metadata": {},
     "outputs": [
      {
       "output_type": "stream",
       "stream": "stdout",
       "text": [
        "Mean squared error: 21.90\n"
       ]
      }
     ],
     "prompt_number": 234
    },
    {
     "cell_type": "code",
     "collapsed": false,
     "input": [
      "from sklearn.cross_validation import train_test_split\n",
      "X_train, X_test, y_train, y_test = train_test_split(X, y, test_size=0.30, random_state=5)\n",
      "print X_train.shape, X_test.shape"
     ],
     "language": "python",
     "metadata": {},
     "outputs": [
      {
       "output_type": "stream",
       "stream": "stdout",
       "text": [
        "(354L, 13L) (152L, 13L)\n"
       ]
      }
     ],
     "prompt_number": 235
    },
    {
     "cell_type": "code",
     "collapsed": false,
     "input": [
      "regression.fit(X_train,y_train)\n",
      "print 'Train mean squared error: %.2f' % mean_squared_error(y_true=y_train, y_pred=regression.predict(X_train))"
     ],
     "language": "python",
     "metadata": {},
     "outputs": [
      {
       "output_type": "stream",
       "stream": "stdout",
       "text": [
        "Train mean squared error: 19.07\n"
       ]
      }
     ],
     "prompt_number": 236
    },
    {
     "cell_type": "code",
     "collapsed": false,
     "input": [
      "print 'Test mean squared error: %.2f' % mean_squared_error(y_true=y_test, y_pred=regression.predict(X_test))"
     ],
     "language": "python",
     "metadata": {},
     "outputs": [
      {
       "output_type": "stream",
       "stream": "stdout",
       "text": [
        "Test mean squared error: 30.70\n"
       ]
      }
     ],
     "prompt_number": 237
    },
    {
     "cell_type": "code",
     "collapsed": false,
     "input": [
      "from sklearn.cross_validation import train_test_split\n",
      "X_train, X_test, y_train, y_test = train_test_split(X, y, test_size=0.30, random_state=6)\n",
      "regression.fit(X_train,y_train)\n",
      "print 'Train mean squared error: %.2f' % mean_squared_error(y_true=y_train, y_pred=regression.predict(X_train))\n",
      "print 'Test mean squared error: %.2f' % mean_squared_error(y_true=y_test, y_pred=regression.predict(X_test))"
     ],
     "language": "python",
     "metadata": {},
     "outputs": [
      {
       "output_type": "stream",
       "stream": "stdout",
       "text": [
        "Train mean squared error: 19.48\n",
        "Test mean squared error: 28.33\n"
       ]
      }
     ],
     "prompt_number": 238
    },
    {
     "cell_type": "heading",
     "level": 1,
     "metadata": {},
     "source": [
      "Cross-validating, Rather Than Overfitting"
     ]
    },
    {
     "cell_type": "code",
     "collapsed": false,
     "input": [
      "from sklearn.cross_validation import cross_val_score\n",
      "\n",
      "# sklearn.cross_validation.cross_val_score(estimator, X, y=None, scoring=None, cv=None, \n",
      "# n_jobs=1, verbose=0, fit_params=None, score_func=None, pre_dispatch='2*n_jobs')"
     ],
     "language": "python",
     "metadata": {},
     "outputs": [],
     "prompt_number": 72
    },
    {
     "cell_type": "heading",
     "level": 2,
     "metadata": {},
     "source": [
      "Using cross-validation on k folds"
     ]
    },
    {
     "cell_type": "code",
     "collapsed": false,
     "input": [
      "crossvalidation = KFold(n=X.shape[0], n_folds=10, shuffle=True, random_state=1)\n",
      "scores = cross_val_score(regression, X, y, scoring='mean_squared_error', cv=crossvalidation, n_jobs=1)\n",
      "print 'Folds: %i, mean squared error: %.2f std: %.2f' % (len(scores),np.mean(np.abs(scores)),np.std(scores))"
     ],
     "language": "python",
     "metadata": {},
     "outputs": [
      {
       "output_type": "stream",
       "stream": "stdout",
       "text": [
        "Folds: 10, mean squared error: 23.76 std: 12.13\n"
       ]
      }
     ],
     "prompt_number": 239
    },
    {
     "cell_type": "code",
     "collapsed": false,
     "input": [
      "def cross_validation_loop(cross_validation_iterator):\n",
      "    cv_mse = list()\n",
      "    for nfold, (train_idx, test_idx) in enumerate(cross_validation_iterator):\n",
      "            regression.fit(X[train_idx,:],y[train_idx])\n",
      "            cv_mse.append(mean_squared_error(y_true=y[test_idx], y_pred=regression.predict(X[test_idx,:])))\n",
      "    return nfold+1, np.abs(np.mean(cv_mse)), np.std(cv_mse)"
     ],
     "language": "python",
     "metadata": {},
     "outputs": [],
     "prompt_number": 240
    },
    {
     "cell_type": "code",
     "collapsed": false,
     "input": [
      "from sklearn.cross_validation import KFold\n",
      "crossvalidation = KFold(n=X.shape[0], n_folds=10, shuffle=True, random_state=1)\n",
      "print '%i folds cross validation mean squared error: %.2f std: %.2f' % (cross_validation_loop(crossvalidation))"
     ],
     "language": "python",
     "metadata": {},
     "outputs": [
      {
       "output_type": "stream",
       "stream": "stdout",
       "text": [
        "10 folds cross validation mean squared error: 23.76 std: 12.13\n"
       ]
      }
     ],
     "prompt_number": 241
    },
    {
     "cell_type": "heading",
     "level": 2,
     "metadata": {},
     "source": [
      "Sampling stratifications for complex data"
     ]
    },
    {
     "cell_type": "code",
     "collapsed": false,
     "input": [
      "# cross_val_score -> automatic startification based on y classes"
     ],
     "language": "python",
     "metadata": {},
     "outputs": []
    },
    {
     "cell_type": "code",
     "collapsed": false,
     "input": [
      "# sklearn.cross_validation.StratifiedKFold(y, n_folds=3, indices=None, shuffle=False, random_state=None)"
     ],
     "language": "python",
     "metadata": {},
     "outputs": []
    },
    {
     "cell_type": "code",
     "collapsed": false,
     "input": [
      "import pandas as pd\n",
      "df = pd.DataFrame(X, columns=boston.feature_names)\n",
      "df['target'] = y\n",
      "boxplot = df.boxplot('target', by='CHAS', return_type='axes')"
     ],
     "language": "python",
     "metadata": {},
     "outputs": [
      {
       "metadata": {},
       "output_type": "display_data",
       "png": "[encoded data removed]",
       "text": [
        "<matplotlib.figure.Figure at 0x175f5da0>"
       ]
      }
     ],
     "prompt_number": 181
    },
    {
     "cell_type": "code",
     "collapsed": false,
     "input": [
      "from sklearn.cross_validation import StratifiedKFold\n",
      "stratification = StratifiedKFold(y=X[:,3], n_folds=10, shuffle=True, random_state=1)\n",
      "scores = cross_val_score(regression, X, y, scoring='mean_squared_error', cv=stratification, n_jobs=1)\n",
      "print 'Stratified %i folds cross validation mean squared error: %.2f std: %.2f' % (len(scores),np.mean(np.abs(scores)),np.std(scores))"
     ],
     "language": "python",
     "metadata": {},
     "outputs": [
      {
       "output_type": "stream",
       "stream": "stdout",
       "text": [
        "Stratified 10 folds cross validation mean squared error: 23.70 std: 6.10\n"
       ]
      }
     ],
     "prompt_number": 243
    },
    {
     "cell_type": "heading",
     "level": 2,
     "metadata": {},
     "source": [
      "Performing leave-one-out cross-validation"
     ]
    },
    {
     "cell_type": "code",
     "collapsed": false,
     "input": [
      "scores = cross_val_score(regression, X, y, scoring='mean_squared_error', cv=X.shape[0], n_jobs=1)\n",
      "print 'Folds: %i, mean squared error: %.2f std: %.2f' % (len(scores),np.mean(np.abs(scores)),np.std(scores))"
     ],
     "language": "python",
     "metadata": {},
     "outputs": [
      {
       "output_type": "stream",
       "stream": "stdout",
       "text": [
        "Folds: 506, mean squared error: 23.73 std: 65.25\n"
       ]
      }
     ],
     "prompt_number": 170
    },
    {
     "cell_type": "code",
     "collapsed": false,
     "input": [
      "from sklearn.cross_validation import LeaveOneOut\n",
      "LOO = LeaveOneOut(n=X.shape[0])\n",
      "print 'Stratified %i folds cross validation mean squared error: %.2f std: %.2f' % (cross_validation_loop(LOO))        "
     ],
     "language": "python",
     "metadata": {},
     "outputs": [
      {
       "output_type": "stream",
       "stream": "stdout",
       "text": [
        "Stratified 506 folds cross validation mean squared error: 23.73 std: 65.25\n"
       ]
      }
     ],
     "prompt_number": 209
    },
    {
     "cell_type": "heading",
     "level": 1,
     "metadata": {},
     "source": [
      "Bootstrapping Statistics"
     ]
    },
    {
     "cell_type": "heading",
     "level": 2,
     "metadata": {},
     "source": [
      "Using subsampling"
     ]
    },
    {
     "cell_type": "code",
     "collapsed": false,
     "input": [
      "from sklearn.cross_validation import ShuffleSplit\n",
      "subsampling = ShuffleSplit(n=X.shape[0], n_iter=100, test_size=0.3, random_state=0)\n",
      "print 'Subsampling %i fold cross validation mean squared error: %.2f std: %.2f' % (cross_validation_loop(subsampling))        "
     ],
     "language": "python",
     "metadata": {},
     "outputs": [
      {
       "output_type": "stream",
       "stream": "stdout",
       "text": [
        "Subsampling 100 fold cross validation mean squared error: 23.88 std: 4.06\n"
       ]
      }
     ],
     "prompt_number": 206
    },
    {
     "cell_type": "heading",
     "level": 2,
     "metadata": {},
     "source": [
      "Using bootstrapping"
     ]
    },
    {
     "cell_type": "code",
     "collapsed": false,
     "input": [
      "from sklearn.cross_validation import Bootstrap\n",
      "boot = Bootstrap(n=X.shape[0], n_iter=300, test_size=0.2, random_state=0)\n",
      "print 'Subsampling %i fold cross validation mean squared error: %.2f std: %.2f' % (cross_validation_loop(boot))    "
     ],
     "language": "python",
     "metadata": {},
     "outputs": [
      {
       "output_type": "stream",
       "stream": "stdout",
       "text": [
        "Subsampling 300 fold cross validation mean squared error: 26.72 std: 9.06\n"
       ]
      },
      {
       "output_type": "stream",
       "stream": "stderr",
       "text": [
        "C:\\WinPython-64bit-2.7.6.4\\python-2.7.6.amd64\\lib\\site-packages\\sklearn\\cross_validation.py:684: DeprecationWarning: Bootstrap will no longer be supported as a cross-validation method as of version 0.15 and will be removed in 0.17\n",
        "  \"will be removed in 0.17\", DeprecationWarning)\n"
       ]
      }
     ],
     "prompt_number": 207
    },
    {
     "cell_type": "heading",
     "level": 1,
     "metadata": {},
     "source": [
      "Selecting Variables Like a Pro"
     ]
    },
    {
     "cell_type": "heading",
     "level": 2,
     "metadata": {},
     "source": [
      "Selecting on univariate measures"
     ]
    },
    {
     "cell_type": "code",
     "collapsed": false,
     "input": [
      "from sklearn.feature_selection import SelectPercentile\n",
      "from sklearn.feature_selection import f_regression # chi2, f_classif\n",
      "Selector_f = SelectPercentile(f_regression, percentile=25)\n",
      "Selector_f.fit(X,y)"
     ],
     "language": "python",
     "metadata": {},
     "outputs": [
      {
       "metadata": {},
       "output_type": "pyout",
       "prompt_number": 140,
       "text": [
        "SelectPercentile(percentile=25,\n",
        "         score_func=<function f_regression at 0x000000000AFAD588>)"
       ]
      }
     ],
     "prompt_number": 140
    },
    {
     "cell_type": "code",
     "collapsed": false,
     "input": [
      "for n,s in zip(boston.feature_names,Selector_f.scores_):\n",
      "    print 'F-score: %3.2f\\t for feature %s ' % (s,n)"
     ],
     "language": "python",
     "metadata": {},
     "outputs": [
      {
       "output_type": "stream",
       "stream": "stdout",
       "text": [
        "F-score: 88.15\t for feature CRIM \n",
        "F-score: 75.26\t for feature ZN \n",
        "F-score: 153.95\t for feature INDUS \n",
        "F-score: 15.97\t for feature CHAS \n",
        "F-score: 112.59\t for feature NOX \n",
        "F-score: 471.85\t for feature RM \n",
        "F-score: 83.48\t for feature AGE \n",
        "F-score: 33.58\t for feature DIS \n",
        "F-score: 85.91\t for feature RAD \n",
        "F-score: 141.76\t for feature TAX \n",
        "F-score: 175.11\t for feature PTRATIO \n",
        "F-score: 63.05\t for feature B \n",
        "F-score: 601.62\t for feature LSTAT \n"
       ]
      }
     ],
     "prompt_number": 223
    },
    {
     "cell_type": "heading",
     "level": 2,
     "metadata": {},
     "source": [
      "Using a greedy search"
     ]
    },
    {
     "cell_type": "code",
     "collapsed": false,
     "input": [
      "from sklearn.feature_selection import RFECV\n",
      "selector = RFECV(estimator=regression, cv=10, scoring='mean_squared_error')\n",
      "selector.fit(X, y)\n",
      "print(\"Optimal number of features : %d\" % selector.n_features_)"
     ],
     "language": "python",
     "metadata": {},
     "outputs": [
      {
       "output_type": "stream",
       "stream": "stdout",
       "text": [
        "Optimal number of features : 6\n"
       ]
      }
     ],
     "prompt_number": 143
    },
    {
     "cell_type": "code",
     "collapsed": false,
     "input": [
      "print boston.feature_names[selector.support_]"
     ],
     "language": "python",
     "metadata": {},
     "outputs": [
      {
       "output_type": "stream",
       "stream": "stdout",
       "text": [
        "['CHAS' 'NOX' 'RM' 'DIS' 'PTRATIO' 'LSTAT']\n"
       ]
      }
     ],
     "prompt_number": 147
    },
    {
     "cell_type": "heading",
     "level": 2,
     "metadata": {},
     "source": [
      "Leveraging powerful algorithms"
     ]
    },
    {
     "cell_type": "code",
     "collapsed": false,
     "input": [
      "from sklearn.ensemble import RandomForestRegressor\n",
      "ensemble = RandomForestRegressor(n_estimators=100, oob_score=True)\n",
      "ensemble.fit(X, y)\n",
      "print 'Out of the bag score: %.3f' % ensemble.oob_score_\n",
      "X_s = ensemble.transform(X)"
     ],
     "language": "python",
     "metadata": {},
     "outputs": [
      {
       "output_type": "stream",
       "stream": "stdout",
       "text": [
        "Out of the bag score: 0.880\n"
       ]
      }
     ],
     "prompt_number": 150
    },
    {
     "cell_type": "heading",
     "level": 1,
     "metadata": {},
     "source": [
      "Pumping up your hyper-parameters"
     ]
    },
    {
     "cell_type": "code",
     "collapsed": false,
     "input": [
      "import numpy as np\n",
      "from sklearn.datasets import load_iris\n",
      "iris = load_iris()\n",
      "X, y = iris.data, iris.target\n",
      "print X.shape, y.shape"
     ],
     "language": "python",
     "metadata": {},
     "outputs": [
      {
       "output_type": "stream",
       "stream": "stdout",
       "text": [
        "(150L, 4L) (150L,)\n"
       ]
      }
     ],
     "prompt_number": 2
    },
    {
     "cell_type": "heading",
     "level": 2,
     "metadata": {},
     "source": [
      "Implementing a grid search"
     ]
    },
    {
     "cell_type": "code",
     "collapsed": false,
     "input": [
      "from sklearn.neighbors import KNeighborsClassifier\n",
      "# n_neighbors = 1 to 5\n",
      "# weights  = uniform / distance\n",
      "# p = 1 (manhattan distance), 2 (euclidean distance)"
     ],
     "language": "python",
     "metadata": {},
     "outputs": [],
     "prompt_number": 3
    },
    {
     "cell_type": "code",
     "collapsed": false,
     "input": [
      "classifier = KNeighborsClassifier(n_neighbors=5, weights='uniform', metric= 'minkowski', p=2)\n",
      "grid = {'n_neighbors': range(1,11), 'weights': ['uniform', 'distance'], 'p': [1,2]}\n",
      "print 'Number of tested models: %i' % np.prod([len(grid[element]) for element in grid])\n",
      "score_metric = 'accuracy'"
     ],
     "language": "python",
     "metadata": {},
     "outputs": [
      {
       "output_type": "stream",
       "stream": "stdout",
       "text": [
        "Number of tested models: 40\n"
       ]
      }
     ],
     "prompt_number": 4
    },
    {
     "cell_type": "code",
     "collapsed": false,
     "input": [
      "from sklearn.cross_validation import cross_val_score\n",
      "print 'Baseline with default parameters: %.3f' % np.mean(cross_val_score(classifier, X, y, cv=10, scoring=score_metric, n_jobs=1))"
     ],
     "language": "python",
     "metadata": {},
     "outputs": [
      {
       "output_type": "stream",
       "stream": "stdout",
       "text": [
        "Baseline with default parameters: 0.967\n"
       ]
      }
     ],
     "prompt_number": 5
    },
    {
     "cell_type": "code",
     "collapsed": false,
     "input": [
      "from sklearn.grid_search import GridSearchCV\n",
      "search = GridSearchCV(estimator=classifier, param_grid=grid, \n",
      "                                       scoring=score_metric, n_jobs=1, refit=True, cv=10)\n",
      "search.fit(X,y)"
     ],
     "language": "python",
     "metadata": {},
     "outputs": [
      {
       "metadata": {},
       "output_type": "pyout",
       "prompt_number": 6,
       "text": [
        "GridSearchCV(cv=10,\n",
        "       estimator=KNeighborsClassifier(algorithm='auto', leaf_size=30, metric='minkowski',\n",
        "           metric_params=None, n_neighbors=5, p=2, weights='uniform'),\n",
        "       fit_params={}, iid=True, loss_func=None, n_jobs=1,\n",
        "       param_grid={'n_neighbors': [1, 2, 3, 4, 5, 6, 7, 8, 9, 10], 'weights': ['uniform', 'distance'], 'p': [1, 2]},\n",
        "       pre_dispatch='2*n_jobs', refit=True, score_func=None,\n",
        "       scoring='accuracy', verbose=0)"
       ]
      }
     ],
     "prompt_number": 6
    },
    {
     "cell_type": "code",
     "collapsed": false,
     "input": [
      "print 'Best parameters: %s' % search.best_params_\n",
      "print 'CV Accuracy of best parameters: %.3f' % search.best_score_"
     ],
     "language": "python",
     "metadata": {},
     "outputs": [
      {
       "output_type": "stream",
       "stream": "stdout",
       "text": [
        "Best parameters: {'n_neighbors': 9, 'weights': 'uniform', 'p': 1}\n",
        "CV Accuracy of best parameters: 0.973\n"
       ]
      }
     ],
     "prompt_number": 7
    },
    {
     "cell_type": "code",
     "collapsed": false,
     "input": [
      "search.grid_scores_"
     ],
     "language": "python",
     "metadata": {},
     "outputs": [
      {
       "metadata": {},
       "output_type": "pyout",
       "prompt_number": 8,
       "text": [
        "[mean: 0.96000, std: 0.05333, params: {'n_neighbors': 1, 'weights': 'uniform', 'p': 1},\n",
        " mean: 0.96000, std: 0.05333, params: {'n_neighbors': 1, 'weights': 'distance', 'p': 1},\n",
        " mean: 0.96000, std: 0.05333, params: {'n_neighbors': 1, 'weights': 'uniform', 'p': 2},\n",
        " mean: 0.96000, std: 0.05333, params: {'n_neighbors': 1, 'weights': 'distance', 'p': 2},\n",
        " mean: 0.94000, std: 0.06289, params: {'n_neighbors': 2, 'weights': 'uniform', 'p': 1},\n",
        " mean: 0.96000, std: 0.05333, params: {'n_neighbors': 2, 'weights': 'distance', 'p': 1},\n",
        " mean: 0.95333, std: 0.05207, params: {'n_neighbors': 2, 'weights': 'uniform', 'p': 2},\n",
        " mean: 0.96000, std: 0.05333, params: {'n_neighbors': 2, 'weights': 'distance', 'p': 2},\n",
        " mean: 0.96000, std: 0.05333, params: {'n_neighbors': 3, 'weights': 'uniform', 'p': 1},\n",
        " mean: 0.96000, std: 0.05333, params: {'n_neighbors': 3, 'weights': 'distance', 'p': 1},\n",
        " mean: 0.96667, std: 0.04472, params: {'n_neighbors': 3, 'weights': 'uniform', 'p': 2},\n",
        " mean: 0.96667, std: 0.04472, params: {'n_neighbors': 3, 'weights': 'distance', 'p': 2},\n",
        " mean: 0.95333, std: 0.06700, params: {'n_neighbors': 4, 'weights': 'uniform', 'p': 1},\n",
        " mean: 0.96000, std: 0.05333, params: {'n_neighbors': 4, 'weights': 'distance', 'p': 1},\n",
        " mean: 0.96667, std: 0.04472, params: {'n_neighbors': 4, 'weights': 'uniform', 'p': 2},\n",
        " mean: 0.96667, std: 0.04472, params: {'n_neighbors': 4, 'weights': 'distance', 'p': 2},\n",
        " mean: 0.96667, std: 0.04472, params: {'n_neighbors': 5, 'weights': 'uniform', 'p': 1},\n",
        " mean: 0.96667, std: 0.04472, params: {'n_neighbors': 5, 'weights': 'distance', 'p': 1},\n",
        " mean: 0.96667, std: 0.04472, params: {'n_neighbors': 5, 'weights': 'uniform', 'p': 2},\n",
        " mean: 0.96667, std: 0.04472, params: {'n_neighbors': 5, 'weights': 'distance', 'p': 2},\n",
        " mean: 0.94000, std: 0.05538, params: {'n_neighbors': 6, 'weights': 'uniform', 'p': 1},\n",
        " mean: 0.95333, std: 0.05207, params: {'n_neighbors': 6, 'weights': 'distance', 'p': 1},\n",
        " mean: 0.96667, std: 0.04472, params: {'n_neighbors': 6, 'weights': 'uniform', 'p': 2},\n",
        " mean: 0.96667, std: 0.04472, params: {'n_neighbors': 6, 'weights': 'distance', 'p': 2},\n",
        " mean: 0.95333, std: 0.05207, params: {'n_neighbors': 7, 'weights': 'uniform', 'p': 1},\n",
        " mean: 0.96667, std: 0.04472, params: {'n_neighbors': 7, 'weights': 'distance', 'p': 1},\n",
        " mean: 0.96667, std: 0.04472, params: {'n_neighbors': 7, 'weights': 'uniform', 'p': 2},\n",
        " mean: 0.96667, std: 0.04472, params: {'n_neighbors': 7, 'weights': 'distance', 'p': 2},\n",
        " mean: 0.95333, std: 0.05207, params: {'n_neighbors': 8, 'weights': 'uniform', 'p': 1},\n",
        " mean: 0.95333, std: 0.05207, params: {'n_neighbors': 8, 'weights': 'distance', 'p': 1},\n",
        " mean: 0.96667, std: 0.04472, params: {'n_neighbors': 8, 'weights': 'uniform', 'p': 2},\n",
        " mean: 0.96667, std: 0.04472, params: {'n_neighbors': 8, 'weights': 'distance', 'p': 2},\n",
        " mean: 0.97333, std: 0.03266, params: {'n_neighbors': 9, 'weights': 'uniform', 'p': 1},\n",
        " mean: 0.96667, std: 0.04472, params: {'n_neighbors': 9, 'weights': 'distance', 'p': 1},\n",
        " mean: 0.97333, std: 0.03266, params: {'n_neighbors': 9, 'weights': 'uniform', 'p': 2},\n",
        " mean: 0.97333, std: 0.03266, params: {'n_neighbors': 9, 'weights': 'distance', 'p': 2},\n",
        " mean: 0.96000, std: 0.04422, params: {'n_neighbors': 10, 'weights': 'uniform', 'p': 1},\n",
        " mean: 0.96000, std: 0.04422, params: {'n_neighbors': 10, 'weights': 'distance', 'p': 1},\n",
        " mean: 0.96667, std: 0.04472, params: {'n_neighbors': 10, 'weights': 'uniform', 'p': 2},\n",
        " mean: 0.97333, std: 0.03266, params: {'n_neighbors': 10, 'weights': 'distance', 'p': 2}]"
       ]
      }
     ],
     "prompt_number": 8
    },
    {
     "cell_type": "code",
     "collapsed": false,
     "input": [
      "from sklearn.learning_curve import validation_curve\n",
      "train_scores, test_scores = validation_curve(KNeighborsClassifier(weights='uniform', metric= 'minkowski', p=1), X, y, \n",
      "                                             'n_neighbors', param_range=range(1,11), cv=10, scoring='accuracy', n_jobs=1)"
     ],
     "language": "python",
     "metadata": {},
     "outputs": [],
     "prompt_number": 18
    },
    {
     "cell_type": "code",
     "collapsed": false,
     "input": [
      "mean_train  = np.mean(train_scores,axis=1)\n",
      "mean_test   = np.mean(test_scores,axis=1)\n",
      "\n",
      "import matplotlib.pyplot as plt\n",
      "plt.plot(range(1,11),mean_train,'ro--', label='Training')\n",
      "plt.plot(range(1,11),mean_test,'bD-.', label='Cross-validation')\n",
      "plt.grid()\n",
      "plt.xlabel('Number of neighbors') # adds label to x axis\n",
      "plt.ylabel('accuracy') # adds label to y axis\n",
      "plt.legend(loc='upper right', numpoints= 1)\n",
      "plt.show()"
     ],
     "language": "python",
     "metadata": {},
     "outputs": [
      {
       "metadata": {},
       "output_type": "display_data",
       "png": "[encoded data removed]",
       "text": [
        "<matplotlib.figure.Figure at 0xaf8de10>"
       ]
      }
     ],
     "prompt_number": 19
    },
    {
     "cell_type": "heading",
     "level": 2,
     "metadata": {},
     "source": [
      "Trying a randomized search"
     ]
    },
    {
     "cell_type": "code",
     "collapsed": false,
     "input": [
      "from sklearn.grid_search import RandomizedSearchCV\n",
      "random_search = RandomizedSearchCV(estimator=classifier, param_distributions=grid, n_iter=10, \n",
      "                                   scoring=score_metric, n_jobs=1, refit=True, cv=10, )\n",
      "random_search.fit(X,y)"
     ],
     "language": "python",
     "metadata": {},
     "outputs": [
      {
       "metadata": {},
       "output_type": "pyout",
       "prompt_number": 26,
       "text": [
        "RandomizedSearchCV(cv=10,\n",
        "          estimator=KNeighborsClassifier(algorithm='auto', leaf_size=30, metric='minkowski',\n",
        "           metric_params=None, n_neighbors=5, p=2, weights='uniform'),\n",
        "          fit_params={}, iid=True, n_iter=5, n_jobs=1,\n",
        "          param_distributions={'n_neighbors': [1, 2, 3, 4, 5, 6, 7, 8, 9, 10], 'weights': ['uniform', 'distance'], 'p': [1, 2]},\n",
        "          pre_dispatch='2*n_jobs', random_state=None, refit=True,\n",
        "          scoring='accuracy', verbose=0)"
       ]
      }
     ],
     "prompt_number": 26
    },
    {
     "cell_type": "code",
     "collapsed": false,
     "input": [
      "print 'Best parameters: %s' % random_search.best_params_\n",
      "print 'CV Accuracy of best parameters: %.3f' % random_search.best_score_"
     ],
     "language": "python",
     "metadata": {},
     "outputs": [
      {
       "output_type": "stream",
       "stream": "stdout",
       "text": [
        "Best parameters: {'n_neighbors': 3, 'weights': 'uniform', 'p': 2}\n",
        "CV Accuracy of best parameters: 0.967\n"
       ]
      }
     ],
     "prompt_number": 27
    },
    {
     "cell_type": "heading",
     "level": 3,
     "metadata": {},
     "source": [
      "Wrapping up everything"
     ]
    },
    {
     "cell_type": "code",
     "collapsed": false,
     "input": [
      "from sklearn.datasets import load_boston\n",
      "boston = load_boston()\n",
      "X, y = boston.data, boston.target"
     ],
     "language": "python",
     "metadata": {},
     "outputs": [],
     "prompt_number": 226
    },
    {
     "cell_type": "code",
     "collapsed": false,
     "input": [
      "from sklearn.pipeline import Pipeline\n",
      "from sklearn.neighbors import KNeighborsRegressor\n",
      "from sklearn.feature_selection import SelectPercentile\n",
      "from sklearn.feature_selection import f_regression\n",
      "\n",
      "grid = {'vselection__percentile':[25,50,75,100], \n",
      "        'model__n_neighbors': range(1,11), 'model__weights': ['uniform', 'distance'], 'model__p': [1,2]}\n",
      "score_metric = 'mean_squared_error'\n",
      "\n",
      "selector = SelectPercentile(f_regression)\n",
      "regression = KNeighborsRegressor()\n",
      "procedure = Pipeline(steps=[('vselection',selector),('model',regression)])\n",
      "search = GridSearchCV(estimator=procedure, param_grid=grid, scoring=score_metric, n_jobs=1, refit=True, cv=10)\n",
      "search.fit(X,y)"
     ],
     "language": "python",
     "metadata": {},
     "outputs": [
      {
       "metadata": {},
       "output_type": "pyout",
       "prompt_number": 229,
       "text": [
        "GridSearchCV(cv=10,\n",
        "       estimator=Pipeline(steps=[('vselection', SelectPercentile(percentile=10,\n",
        "         score_func=<function f_regression at 0x000000000AFAD588>)), ('model', KNeighborsRegressor(algorithm='auto', leaf_size=30, metric='minkowski',\n",
        "          metric_params=None, n_neighbors=5, p=2, weights='uniform'))]),\n",
        "       fit_params={}, iid=True, loss_func=None, n_jobs=1,\n",
        "       param_grid={'model__weights': ['uniform', 'distance'], 'model__n_neighbors': [1, 2, 3, 4, 5, 6, 7, 8, 9, 10], 'vselection__percentile': [25, 50, 75, 100], 'model__p': [1, 2]},\n",
        "       pre_dispatch='2*n_jobs', refit=True, score_func=None,\n",
        "       scoring='mean_squared_error', verbose=0)"
       ]
      }
     ],
     "prompt_number": 229
    },
    {
     "cell_type": "code",
     "collapsed": false,
     "input": [
      "print 'Best parameters: %s' % search.best_params_\n",
      "print 'CV Accuracy of best parameters: %.2f' % abs(search.best_score_)"
     ],
     "language": "python",
     "metadata": {},
     "outputs": [
      {
       "output_type": "stream",
       "stream": "stdout",
       "text": [
        "Best parameters: {'model__weights': 'distance', 'model__n_neighbors': 10, 'vselection__percentile': 25, 'model__p': 1}\n",
        "CV Accuracy of best parameters: 25.053\n"
       ]
      }
     ],
     "prompt_number": 232
    }
   ],
   "metadata": {}
  }
 ]
}