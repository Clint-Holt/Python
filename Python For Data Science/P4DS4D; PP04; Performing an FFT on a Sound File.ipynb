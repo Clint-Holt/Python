{
 "metadata": {
  "name": "",
  "signature": "sha256:a2399752bf9a8d0fdafc17afc19fafbf5ef276f53eb6eb43f25b314e766618d9"
 },
 "nbformat": 3,
 "nbformat_minor": 0,
 "worksheets": [
  {
   "cells": [
    {
     "cell_type": "code",
     "collapsed": false,
     "input": [
      "import matplotlib.pyplot as plt\n",
      "from scipy.io import wavfile as wav\n",
      "from scipy.fftpack import fft\n",
      "import numpy as np\n",
      "\n",
      "rate, data = wav.read('bells.wav')\n",
      "\n",
      "fft_out = fft(data)\n",
      "\n",
      "%matplotlib inline\n",
      "plt.plot(data, np.abs(fft_out))\n",
      "plt.show()"
     ],
     "language": "python",
     "metadata": {},
     "outputs": [
      {
       "metadata": {},
       "output_type": "display_data",
       "png": "[encoded data removed]",
       "text": [
        "<matplotlib.figure.Figure at 0xa86e860>"
       ]
      }
     ],
     "prompt_number": 1
    },
    {
     "cell_type": "code",
     "collapsed": false,
     "input": [],
     "language": "python",
     "metadata": {},
     "outputs": []
    }
   ],
   "metadata": {}
  }
 ]
}