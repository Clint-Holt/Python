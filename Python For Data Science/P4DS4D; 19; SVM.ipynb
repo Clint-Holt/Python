{
 "metadata": {
  "name": "",
  "signature": "sha256:9bfb0e4522892a17f351b9e9fb3fd2931f90f1ea1e4b8deff9a7f19328e0fffb"
 },
 "nbformat": 3,
 "nbformat_minor": 0,
 "worksheets": [
  {
   "cells": [
    {
     "cell_type": "code",
     "collapsed": false,
     "input": [
      "from sklearn import datasets\n",
      "digits = datasets.load_digits()\n",
      "X,y = digits.data, digits.target"
     ],
     "language": "python",
     "metadata": {},
     "outputs": [],
     "prompt_number": 1
    },
    {
     "cell_type": "code",
     "collapsed": false,
     "input": [
      "import matplotlib.pyplot as plt\n",
      "for k,img in enumerate(range(10)):\n",
      "    plt.subplot(2, 5, k)\n",
      "    plt.imshow(digits.images[img],cmap='binary',interpolation='none')\n",
      "plt.show()"
     ],
     "language": "python",
     "metadata": {},
     "outputs": [
      {
       "metadata": {},
       "output_type": "display_data",
       "png": "[encoded data removed]",
       "text": [
        "<matplotlib.figure.Figure at 0xacea128>"
       ]
      }
     ],
     "prompt_number": 2
    },
    {
     "cell_type": "code",
     "collapsed": false,
     "input": [
      "X[0]"
     ],
     "language": "python",
     "metadata": {},
     "outputs": [
      {
       "metadata": {},
       "output_type": "pyout",
       "prompt_number": 4,
       "text": [
        "array([  0.,   0.,   5.,  13.,   9.,   1.,   0.,   0.,   0.,   0.,  13.,\n",
        "        15.,  10.,  15.,   5.,   0.,   0.,   3.,  15.,   2.,   0.,  11.,\n",
        "         8.,   0.,   0.,   4.,  12.,   0.,   0.,   8.,   8.,   0.,   0.,\n",
        "         5.,   8.,   0.,   0.,   9.,   8.,   0.,   0.,   4.,  11.,   0.,\n",
        "         1.,  12.,   7.,   0.,   0.,   2.,  14.,   5.,  10.,  12.,   0.,\n",
        "         0.,   0.,   0.,   6.,  13.,  10.,   0.,   0.,   0.])"
       ]
      }
     ],
     "prompt_number": 4
    },
    {
     "cell_type": "code",
     "collapsed": false,
     "input": [
      "import numpy as np\n",
      "print np.min(X), np.max(X)"
     ],
     "language": "python",
     "metadata": {},
     "outputs": [
      {
       "output_type": "stream",
       "stream": "stdout",
       "text": [
        "0.0 16.0\n"
       ]
      }
     ],
     "prompt_number": 3
    },
    {
     "cell_type": "code",
     "collapsed": false,
     "input": [
      "print X.shape"
     ],
     "language": "python",
     "metadata": {},
     "outputs": [
      {
       "output_type": "stream",
       "stream": "stdout",
       "text": [
        "(1797L, 64L)\n"
       ]
      }
     ],
     "prompt_number": 6
    },
    {
     "cell_type": "code",
     "collapsed": false,
     "input": [
      "from sklearn.cross_validation import train_test_split, cross_val_score\n",
      "from sklearn.preprocessing import MinMaxScaler\n",
      "# We keep 30% random examples for test\n",
      "X_train, X_test, y_train, y_test = train_test_split(X, y, test_size=0.3, random_state=101)\n",
      "# We scale the data in the range [-1,1]\n",
      "scaling = MinMaxScaler(feature_range=(-1, 1)).fit(X_train)\n",
      "X_train = scaling.transform(X_train)\n",
      "X_test  = scaling.transform(X_test)\n",
      "\n",
      "from sklearn.svm import SVC\n",
      "# We balance the clasess so you can see how it works\n",
      "learning_algo = SVC(kernel='linear', class_weight='auto')\n",
      "cv_performance = cross_val_score(learning_algo, X_train, y_train, cv=10)\n",
      "test_performance = learning_algo.fit(X_train, y_train).score(X_test, y_test)\n",
      "print 'Cross-validation accuracy score: %0.3f, test accuracy score: %0.3f' % (np.mean(cv_performance),test_performance)"
     ],
     "language": "python",
     "metadata": {},
     "outputs": [
      {
       "output_type": "stream",
       "stream": "stdout",
       "text": [
        "Cross-validation accuracy score: 0.975, test accuracy score: 0.974\n"
       ]
      }
     ],
     "prompt_number": 7
    },
    {
     "cell_type": "code",
     "collapsed": false,
     "input": [
      "from sklearn.grid_search import GridSearchCV\n",
      "learning_algo = SVC(class_weight='auto', random_state=101)\n",
      "search_space = {'C': np.logspace(-3, 3, 7)}\n",
      "gridsearch = GridSearchCV(learning_algo, param_grid=search_space, scoring='accuracy', refit=True, cv=10, n_jobs=-1)\n",
      "gridsearch.fit(X_train,y_train)\n",
      "cv_performance = gridsearch.best_score_\n",
      "test_performance = gridsearch.score(X_test, y_test)\n",
      "print 'Cross-validation accuracy score: %0.3f, test accuracy score: %0.3f' % (cv_performance,test_performance)\n",
      "print 'Best C parameter: %0.1f' % gridsearch.best_params_['C']"
     ],
     "language": "python",
     "metadata": {},
     "outputs": [
      {
       "output_type": "stream",
       "stream": "stdout",
       "text": [
        "Cross-validation accuracy score: 0.984, test accuracy score: 0.993\n",
        "Best C parameter: 100.0\n"
       ]
      }
     ],
     "prompt_number": 23
    },
    {
     "cell_type": "code",
     "collapsed": false,
     "input": [
      "from sklearn.grid_search import GridSearchCV\n",
      "learning_algo = SVC(class_weight='auto', random_state=101)\n",
      "search_space = [{'kernel': ['linear'], 'C': np.logspace(-3, 3, 7)},\n",
      "                {'kernel': ['rbf'], 'degree':[2,3,4], 'C':np.logspace(-3, 3, 7), 'gamma': np.logspace(-3, 2, 6)}]\n",
      "gridsearch = GridSearchCV(learning_algo, param_grid=search_space, scoring='accuracy', refit=True, cv=10, n_jobs=-1)\n",
      "gridsearch.fit(X_train,y_train)\n",
      "cv_performance = gridsearch.best_score_\n",
      "test_performance = gridsearch.score(X_test, y_test)\n",
      "print 'Cross-validation accuracy score: %0.3f, test accuracy score: %0.3f' % (cv_performance,test_performance)\n",
      "print 'Best parametes: %s' % gridsearch.best_params_"
     ],
     "language": "python",
     "metadata": {},
     "outputs": [
      {
       "output_type": "stream",
       "stream": "stdout",
       "text": [
        "Cross-validation accuracy score: 0.988, test accuracy score: 0.987\n",
        "Best parametes: {'kernel': 'rbf', 'C': 1.0, 'gamma': 0.10000000000000001, 'degree': 2}\n"
       ]
      }
     ],
     "prompt_number": 27
    },
    {
     "cell_type": "code",
     "collapsed": false,
     "input": [
      "print 'Best parametes: %s' % gridsearch.best_params_\n",
      "# if you want to explore more, try: print gridsearch.grid_scores_"
     ],
     "language": "python",
     "metadata": {},
     "outputs": [
      {
       "output_type": "stream",
       "stream": "stdout",
       "text": [
        "Best parametes: {'kernel': 'linear', 'C': 0.10000000000000001}\n"
       ]
      }
     ],
     "prompt_number": 13
    },
    {
     "cell_type": "code",
     "collapsed": false,
     "input": [
      "from sklearn.cross_validation import train_test_split, cross_val_score\n",
      "from sklearn.preprocessing import MinMaxScaler\n",
      "from sklearn.grid_search import GridSearchCV\n",
      "\n",
      "from sklearn import datasets\n",
      "boston = datasets.load_boston()\n",
      "X,y = boston.data, boston.target\n",
      "X_train, X_test, y_train, y_test = train_test_split(X, y, test_size=0.3, random_state=101)\n",
      "scaling = MinMaxScaler(feature_range=(-1, 1)).fit(X_train)\n",
      "X_train = scaling.transform(X_train)\n",
      "X_test  = scaling.transform(X_test)\n",
      "\n",
      "from sklearn.svm import SVR\n",
      "learning_algo = SVR(random_state=101)\n",
      "search_space = [{'kernel': ['linear'], 'C': np.logspace(-3, 2, 6), 'epsilon': [0, 0.01, 0.1, 0.5, 1, 2, 4]},\n",
      "                {'kernel': ['rbf'], 'degree':[2,3], 'C':np.logspace(-3, 3, 7), 'gamma': np.logspace(-3, 2, 6), 'epsilon': [0, 0.01, 0.1, 0.5, 1, 2, 4]}]\n",
      "gridsearch = GridSearchCV(learning_algo, param_grid=search_space, refit=True, scoring= 'r2', cv=10, n_jobs=-1)\n",
      "gridsearch.fit(X_train,y_train)\n",
      "cv_performance = gridsearch.best_score_\n",
      "test_performance = gridsearch.score(X_test, y_test)\n",
      "print 'Cross-validation accuracy score: %0.3f, test accuracy score: %0.3f' % (cv_performance,test_performance)\n",
      "print 'Best parametes: %s' % gridsearch.best_params_"
     ],
     "language": "python",
     "metadata": {},
     "outputs": [
      {
       "output_type": "stream",
       "stream": "stdout",
       "text": [
        "Cross-validation accuracy score: 0.833, test accuracy score: 0.871\n",
        "Best parametes: {'epsilon': 2, 'C': 1000.0, 'gamma': 0.10000000000000001, 'degree': 2, 'kernel': 'rbf'}\n"
       ]
      }
     ],
     "prompt_number": 4
    },
    {
     "cell_type": "code",
     "collapsed": false,
     "input": [
      "from sklearn.datasets import make_classification\n",
      "import numpy as np\n",
      "X,y = make_classification(n_samples=10**4, n_features=15, n_informative=10, random_state=101)\n",
      "X_train, X_test, y_train, y_test = train_test_split(X, y, test_size=0.3, random_state=101)\n",
      "\n",
      "from sklearn.svm import SVC, LinearSVC\n",
      "slow_SVM = SVC(kernel=\"linear\", random_state=101)\n",
      "fast_SVM = LinearSVC(random_state=101, loss='l1')\n",
      "\n",
      "slow_SVM.fit(X_train, y_train)\n",
      "fast_SVM.fit(X_train, y_train)\n",
      "print 'SVC test accuracy score: %0.3f' % slow_SVM.score(X_test, y_test)\n",
      "print 'LinearSVC test accuracy score: %0.3f' % fast_SVM.score(X_test, y_test)"
     ],
     "language": "python",
     "metadata": {},
     "outputs": [
      {
       "output_type": "stream",
       "stream": "stdout",
       "text": [
        "SVC test accuracy score: 0.808\n",
        "LinearSVC test accuracy score: 0.808\n"
       ]
      }
     ],
     "prompt_number": 15
    },
    {
     "cell_type": "code",
     "collapsed": false,
     "input": [
      "import timeit\n",
      "X,y = make_classification(n_samples=10**4, n_features=15, n_informative=10, random_state=101)\n",
      "print 'avg secs for SVC, best of 3: %0.1f' % np.mean(timeit.timeit(\"slow_SVM.fit(X, y)\", \"from __main__ import slow_SVM, X, y\", number=1))\n",
      "print 'avg secs for LinearSVC, best of 3: %0.1f' % np.mean(timeit.timeit(\"fast_SVM.fit(X, y)\", \"from __main__ import fast_SVM, X, y\", number=1))"
     ],
     "language": "python",
     "metadata": {},
     "outputs": [
      {
       "output_type": "stream",
       "stream": "stdout",
       "text": [
        "avg secs for SVC, best of 3: 15.9\n",
        "avg secs for LinearSVC, best of 3: 0.4"
       ]
      },
      {
       "output_type": "stream",
       "stream": "stdout",
       "text": [
        "\n"
       ]
      }
     ],
     "prompt_number": 17
    },
    {
     "cell_type": "code",
     "collapsed": false,
     "input": [
      "import timeit\n",
      "X,y = make_classification(n_samples=10**5, n_features=15, n_informative=10, random_state=101)\n",
      "print 'avg secs for SVC, best of 3: %0.1f' % np.mean(timeit.timeit(\"slow_SVM.fit(X, y)\", \"from __main__ import slow_SVM, X, y\", number=1))\n",
      "print 'avg secs for LinearSVC, best of 3: %0.1f' % np.mean(timeit.timeit(\"fast_SVM.fit(X, y)\", \"from __main__ import fast_SVM, X, y\", number=1))"
     ],
     "language": "python",
     "metadata": {},
     "outputs": [
      {
       "output_type": "stream",
       "stream": "stdout",
       "text": [
        "avg secs for SVC, best of 3: 3831.6\n",
        "avg secs for LinearSVC, best of 3: 10.0"
       ]
      },
      {
       "output_type": "stream",
       "stream": "stdout",
       "text": [
        "\n"
       ]
      }
     ],
     "prompt_number": 18
    },
    {
     "cell_type": "code",
     "collapsed": false,
     "input": [
      "# http://www.quora.com/What-is-an-appropriate-grid-search-range-for-optimizing-the-parameter-epsilon-in-epsilon-support-vector-regression\n",
      "# http://www.svms.org/parameters/\n",
      "# http://scikit-learn.org/stable/modules/generated/sklearn.svm.SVR.html"
     ],
     "language": "python",
     "metadata": {},
     "outputs": []
    },
    {
     "cell_type": "code",
     "collapsed": false,
     "input": [
      "from sklearn.datasets import make_classification\n",
      "from sklearn.cross_validation import train_test_split, cross_val_score\n",
      "from sklearn.svm import LinearSVC\n",
      "import timeit\n",
      "\n",
      "from sklearn.linear_model import SGDClassifier\n",
      "X,y = make_classification(n_samples=10**6, n_features=15, n_informative=10, random_state=101)\n",
      "X_train, X_test, y_train, y_test = train_test_split(X, y, test_size=0.3, random_state=101)\n",
      "fast_SVM = LinearSVC(random_state=101, penalty='l2', loss='l1', dual=True)\n",
      "fast_SVM.fit(X_train, y_train)\n",
      "print 'LinearSVC test accuracy score: %0.3f' % fast_SVM.score(X_test, y_test)\n",
      "print 'avg secs for LinearSVC, best of 3: %0.1f' % np.mean(timeit.timeit(\"fast_SVM.fit(X_train, y_train)\", \"from __main__ import fast_SVM, X_train, y_train\", number=1))"
     ],
     "language": "python",
     "metadata": {},
     "outputs": [
      {
       "output_type": "stream",
       "stream": "stdout",
       "text": [
        "LinearSVC test accuracy score: 0.808\n",
        "avg secs for LinearSVC, best of 3: 0.2"
       ]
      },
      {
       "output_type": "stream",
       "stream": "stdout",
       "text": [
        "\n"
       ]
      }
     ],
     "prompt_number": 40
    },
    {
     "cell_type": "code",
     "collapsed": false,
     "input": [
      "stochastic_SVM = SGDClassifier(loss='hinge', n_iter=5, shuffle=True, random_state=101)\n",
      "stochastic_SVM.fit(X_train, y_train)\n",
      "print 'SGDClassifier test accuracy score: %0.3f' % stochastic_SVM.score(X_test, y_test)\n",
      "print 'avg secs for SGDClassifier, best of 3: %0.1f' % np.mean(timeit.timeit(\"stochastic_SVM.fit(X_train, y_train)\", \"from __main__ import stochastic_SVM, X_train, y_train\", number=1))"
     ],
     "language": "python",
     "metadata": {},
     "outputs": [
      {
       "output_type": "stream",
       "stream": "stdout",
       "text": [
        "SGDClassifier test accuracy score: 0.803\n",
        "avg secs for SGDClassifier, best of 3: 5.7"
       ]
      },
      {
       "output_type": "stream",
       "stream": "stdout",
       "text": [
        "\n"
       ]
      }
     ],
     "prompt_number": 51
    }
   ],
   "metadata": {}
  }
 ]
}