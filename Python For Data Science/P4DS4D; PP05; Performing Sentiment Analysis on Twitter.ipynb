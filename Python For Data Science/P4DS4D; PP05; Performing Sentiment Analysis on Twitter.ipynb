{
 "metadata": {
  "name": "",
  "signature": "sha256:4b617e657aabb5e02eb9ecb55035e0480280de99c199748bcab031ebdc8a1cf8"
 },
 "nbformat": 3,
 "nbformat_minor": 0,
 "worksheets": [
  {
   "cells": [
    {
     "cell_type": "code",
     "collapsed": false,
     "input": [
      "from nltk.classify import NaiveBayesClassifier\n",
      "from sklearn.feature_extraction.text import TfidfVectorizer\n",
      "from sklearn.linear_model import LogisticRegression\n",
      "\n",
      "positive_tweets = [('Flowers smell good', 'positive'),\n",
      "                   ('Birds are beautiful', 'positive'),\n",
      "                   ('This is going to be a great day', 'positive'),\n",
      "                   ('I love my bff', 'positive'),\n",
      "                   ('This restaurant has great food', 'positive')]\n",
      "\n",
      "negative_tweets = [('Onions smell bad', 'negative'),\n",
      "                   ('Garbage is ugly', 'negative'),\n",
      "                   ('Nothing has gone right today', 'negative'),\n",
      "                   ('I hate my boss', 'negative'),\n",
      "                   ('This restaurant has terrible food', 'negative')]\n",
      "\n",
      "test_tweets = [('Singing makes me happy', 'positive'),\n",
      "               ('Blue skies are nice', 'positive'),\n",
      "               ('I love spring', 'positive'),\n",
      "               ('Coughing makes me sad', 'negative'),\n",
      "               ('Cloudy skies are depressing', 'negative'),\n",
      "               ('I hate winter', 'negative')]\n",
      "\n",
      "X_train, y_train = zip(*positive_tweets+negative_tweets)\n",
      "\n",
      "X_test, y_test = zip(*test_tweets)\n",
      "\n",
      "tfidfvec = TfidfVectorizer(lowercase=True)\n",
      "vectorized = tfidfvec.fit_transform(X_train)\n",
      "\n",
      "sentiment_classifier = LogisticRegression()\n",
      "sentiment_classifier.fit(vectorized,y_train)\n",
      "\n",
      "vectorized_test = tfidfvec.transform(X_test)\n",
      "prediction = list(sentiment_classifier.predict(vectorized_test))\n",
      "probabilities = list(sentiment_classifier.predict_proba(vectorized_test)[:,1])\n",
      "\n",
      "print 'correct labels : %s %s %s %s %s %s' % y_test\n",
      "print 'prediction     : %s %s %s %s %s %s' % tuple(prediction)\n",
      "print 'proba positive : %0.6f %0.6f %0.6f %0.6f %0.6f %0.6f' % tuple(probabilities)"
     ],
     "language": "python",
     "metadata": {},
     "outputs": [
      {
       "output_type": "stream",
       "stream": "stdout",
       "text": [
        "correct labels : positive positive positive negative negative negative\n",
        "prediction     : negative positive positive negative positive negative\n",
        "proba positive : 0.497926 0.555813 0.561923 0.497926 0.555813 0.434459\n"
       ]
      }
     ],
     "prompt_number": 1
    },
    {
     "cell_type": "code",
     "collapsed": false,
     "input": [],
     "language": "python",
     "metadata": {},
     "outputs": []
    }
   ],
   "metadata": {}
  }
 ]
}