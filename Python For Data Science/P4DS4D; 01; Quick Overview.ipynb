{
 "metadata": {
  "name": "",
  "signature": "sha256:40ba2ed0556d7615842185254df9a00d4d17439b123482fa2bc049390aa082c8"
 },
 "nbformat": 3,
 "nbformat_minor": 0,
 "worksheets": [
  {
   "cells": [
    {
     "cell_type": "heading",
     "level": 1,
     "metadata": {},
     "source": [
      "Seeing the Data Science Pipeline in Action Using Python"
     ]
    },
    {
     "cell_type": "heading",
     "level": 2,
     "metadata": {},
     "source": [
      "Loading the Data"
     ]
    },
    {
     "cell_type": "code",
     "collapsed": false,
     "input": [
      "from sklearn.datasets import load_boston\n",
      "boston = load_boston()\n",
      "X, y = boston.data,boston.target"
     ],
     "language": "python",
     "metadata": {},
     "outputs": [],
     "prompt_number": 1
    },
    {
     "cell_type": "heading",
     "level": 2,
     "metadata": {},
     "source": [
      "Training a Model"
     ]
    },
    {
     "cell_type": "code",
     "collapsed": false,
     "input": [
      "from sklearn.linear_model import LinearRegression\n",
      "hypothesis = LinearRegression(normalize=True)\n",
      "hypothesis.fit(X,y)"
     ],
     "language": "python",
     "metadata": {},
     "outputs": [
      {
       "metadata": {},
       "output_type": "pyout",
       "prompt_number": 2,
       "text": [
        "LinearRegression(copy_X=True, fit_intercept=True, normalize=True)"
       ]
      }
     ],
     "prompt_number": 2
    },
    {
     "cell_type": "heading",
     "level": 2,
     "metadata": {},
     "source": [
      "Viewing a Result"
     ]
    },
    {
     "cell_type": "code",
     "collapsed": false,
     "input": [
      "print hypothesis.coef_"
     ],
     "language": "python",
     "metadata": {},
     "outputs": [
      {
       "output_type": "stream",
       "stream": "stdout",
       "text": [
        "[ -1.07170557e-01   4.63952195e-02   2.08602395e-02   2.68856140e+00\n",
        "  -1.77957587e+01   3.80475246e+00   7.51061703e-04  -1.47575880e+00\n",
        "   3.05655038e-01  -1.23293463e-02  -9.53463555e-01   9.39251272e-03\n",
        "  -5.25466633e-01]\n"
       ]
      }
     ],
     "prompt_number": 3
    },
    {
     "cell_type": "code",
     "collapsed": false,
     "input": [],
     "language": "python",
     "metadata": {},
     "outputs": []
    }
   ],
   "metadata": {}
  }
 ]
}