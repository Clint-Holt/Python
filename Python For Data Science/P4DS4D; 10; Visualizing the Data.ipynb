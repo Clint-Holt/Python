{
 "metadata": {
  "name": "",
  "signature": "sha256:1b5c4ffed98784117d7e73b126b7619a1ec80dd176b2979d8cc7ae2b70510fc8"
 },
 "nbformat": 3,
 "nbformat_minor": 0,
 "worksheets": [
  {
   "cells": [
    {
     "cell_type": "heading",
     "level": 1,
     "metadata": {},
     "source": [
      "Choosing the Right Graph"
     ]
    },
    {
     "cell_type": "heading",
     "level": 2,
     "metadata": {},
     "source": [
      "Showing parts of a whole with pie charts"
     ]
    },
    {
     "cell_type": "code",
     "collapsed": false,
     "input": [
      "import matplotlib.pyplot as plt\n",
      "\n",
      "values = [5, 8, 9, 10, 4, 7]\n",
      "colors = ['b', 'g', 'r', 'c', 'm', 'y']\n",
      "labels = ['A', 'B', 'C', 'D', 'E', 'F']\n",
      "explode = (0, 0.2, 0, 0, 0, 0)\n",
      "\n",
      "plt.pie(values, colors=colors, labels=labels, \n",
      "        explode=explode, autopct='%1.1f%%',\n",
      "        counterclock=False, shadow=True)\n",
      "plt.title('Values')\n",
      "\n",
      "plt.show()"
     ],
     "language": "python",
     "metadata": {},
     "outputs": [],
     "prompt_number": 1
    },
    {
     "cell_type": "heading",
     "level": 2,
     "metadata": {},
     "source": [
      "Creating comparisons with bar charts"
     ]
    },
    {
     "cell_type": "code",
     "collapsed": false,
     "input": [
      "import matplotlib.pyplot as plt\n",
      "\n",
      "values = [5, 8, 9, 10, 4, 7]\n",
      "widths = [0.7, 0.8, 0.7, 0.7, 0.7, 0.7]\n",
      "colors = ['b', 'r', 'b', 'b', 'b', 'b']\n",
      "\n",
      "plt.bar(range(0, 6), values, width=widths, \n",
      "        color=colors, align='center')\n",
      "\n",
      "plt.show()"
     ],
     "language": "python",
     "metadata": {},
     "outputs": [],
     "prompt_number": 2
    },
    {
     "cell_type": "heading",
     "level": 2,
     "metadata": {},
     "source": [
      "Showing data progressions using histograms"
     ]
    },
    {
     "cell_type": "code",
     "collapsed": false,
     "input": [
      "import numpy as np\n",
      "import matplotlib.pyplot as plt\n",
      "\n",
      "x = 20 * np.random.randn(10000)\n",
      "\n",
      "plt.hist(x, 25, range=(-50, 50), histtype='stepfilled',\n",
      "         align='mid', color='g', label='Test Data')\n",
      "plt.legend()\n",
      "plt.title('Step Filled Histogram')\n",
      "plt.show()"
     ],
     "language": "python",
     "metadata": {},
     "outputs": [],
     "prompt_number": 3
    },
    {
     "cell_type": "heading",
     "level": 2,
     "metadata": {},
     "source": [
      "Depicting groups of numbers using box plots"
     ]
    },
    {
     "cell_type": "code",
     "collapsed": false,
     "input": [
      "import numpy as np\n",
      "import matplotlib.pyplot as plt\n",
      "\n",
      "spread = 100 * np.random.rand(100)\n",
      "center = np.ones(50) * 50\n",
      "flier_high = 100 * np.random.rand(10) + 100\n",
      "flier_low = -100 * np.random.rand(10)\n",
      "data = np.concatenate((spread, center, \n",
      "                       flier_high, flier_low))\n",
      "\n",
      "plt.boxplot(data, sym='gx', widths=.75, notch=True)\n",
      "plt.show()"
     ],
     "language": "python",
     "metadata": {},
     "outputs": [],
     "prompt_number": 4
    },
    {
     "cell_type": "heading",
     "level": 2,
     "metadata": {},
     "source": [
      "Seeing data patterns using scatterplots"
     ]
    },
    {
     "cell_type": "code",
     "collapsed": false,
     "input": [
      "import numpy as np\n",
      "import matplotlib.pyplot as plt\n",
      "\n",
      "x1 = 5 * np.random.rand(40)\n",
      "x2 = 5 * np.random.rand(40) + 25\n",
      "x3 = 25 * np.random.rand(20)\n",
      "x = np.concatenate((x1, x2, x3))\n",
      "\n",
      "y1 = 5 * np.random.rand(40)\n",
      "y2 = 5 * np.random.rand(40) + 25\n",
      "y3 = 25 * np.random.rand(20)\n",
      "y = np.concatenate((y1, y2, y3))\n",
      "\n",
      "plt.scatter(x, y, s=[100], marker='^', c='m')\n",
      "plt.show()"
     ],
     "language": "python",
     "metadata": {},
     "outputs": [],
     "prompt_number": 5
    },
    {
     "cell_type": "heading",
     "level": 1,
     "metadata": {},
     "source": [
      "Creating Advanced Scatterplots"
     ]
    },
    {
     "cell_type": "heading",
     "level": 2,
     "metadata": {},
     "source": [
      "Depicting groups"
     ]
    },
    {
     "cell_type": "code",
     "collapsed": false,
     "input": [
      "import numpy as np\n",
      "import matplotlib.pyplot as plt\n",
      "\n",
      "x1 = 5 * np.random.rand(50)\n",
      "x2 = 5 * np.random.rand(50) + 25\n",
      "x3 = 30 * np.random.rand(25)\n",
      "x = np.concatenate((x1, x2, x3))\n",
      "\n",
      "y1 = 5 * np.random.rand(50)\n",
      "y2 = 5 * np.random.rand(50) + 25\n",
      "y3 = 30 * np.random.rand(25)\n",
      "y = np.concatenate((y1, y2, y3))\n",
      "\n",
      "color_array = ['b'] * 50 + ['g'] * 50 + ['r'] * 25\n",
      "\n",
      "plt.scatter(x, y, s=[50], marker='D', c=color_array)\n",
      "plt.show()"
     ],
     "language": "python",
     "metadata": {},
     "outputs": [],
     "prompt_number": 6
    },
    {
     "cell_type": "heading",
     "level": 2,
     "metadata": {},
     "source": [
      "Showing correlations"
     ]
    },
    {
     "cell_type": "code",
     "collapsed": false,
     "input": [
      "import numpy as np\n",
      "import matplotlib.pyplot as plt\n",
      "import matplotlib.pylab as plb\n",
      "\n",
      "x1 = 15 * np.random.rand(50)\n",
      "x2 = 15 * np.random.rand(50) + 15\n",
      "x3 = 30 * np.random.rand(30)\n",
      "x = np.concatenate((x1, x2, x3))\n",
      "\n",
      "y1 = 15 * np.random.rand(50)\n",
      "y2 = 15 * np.random.rand(50) + 15\n",
      "y3 = 30 * np.random.rand(30)\n",
      "y = np.concatenate((y1, y2, y3))\n",
      "\n",
      "color_array = ['b'] * 50 + ['g'] * 50 + ['r'] * 25\n",
      "\n",
      "plt.scatter(x, y, s=[90], marker='*', c=color_array)\n",
      "\n",
      "z = np.polyfit(x, y, 1)\n",
      "p = np.poly1d(z)\n",
      "plb.plot(x, p(x), 'm-')\n",
      "\n",
      "plt.show()"
     ],
     "language": "python",
     "metadata": {},
     "outputs": [],
     "prompt_number": 7
    },
    {
     "cell_type": "heading",
     "level": 1,
     "metadata": {},
     "source": [
      "Plotting Time Series"
     ]
    },
    {
     "cell_type": "heading",
     "level": 2,
     "metadata": {},
     "source": [
      "Representing time on axes"
     ]
    },
    {
     "cell_type": "code",
     "collapsed": false,
     "input": [
      "import datetime as dt\n",
      "import pandas as pd\n",
      "import matplotlib.pyplot as plt\n",
      "\n",
      "df = pd.DataFrame(columns=('Time', 'Sales'))\n",
      "\n",
      "start_date = dt.datetime(2015, 7,1)\n",
      "end_date = dt.datetime(2015, 7,10)\n",
      "daterange = pd.date_range(start_date, end_date)\n",
      "\n",
      "for single_date in daterange:\n",
      "    row = dict(zip(['Time', 'Sales'],\n",
      "                   [single_date,\n",
      "                    int(50*np.random.rand(1))]))\n",
      "    row_s = pd.Series(row)\n",
      "    row_s.name = single_date.strftime('%b %d')\n",
      "    df = df.append(row_s)\n",
      "\n",
      "df.ix['Jul 01':'Jul 07', ['Time', 'Sales']].plot()\n",
      "plt.ylim(0, 50)\n",
      "plt.xlabel('Sales Date')\n",
      "plt.ylabel('Sale Value')\n",
      "plt.title('Plotting Time')\n",
      "plt.show()"
     ],
     "language": "python",
     "metadata": {},
     "outputs": [],
     "prompt_number": 8
    },
    {
     "cell_type": "heading",
     "level": 2,
     "metadata": {},
     "source": [
      "Plotting trends over time"
     ]
    },
    {
     "cell_type": "code",
     "collapsed": false,
     "input": [
      "import datetime as dt\n",
      "import pandas as pd\n",
      "import matplotlib.pyplot as plt\n",
      "import numpy as np\n",
      "import matplotlib.pylab as plb\n",
      "\n",
      "df = pd.DataFrame(columns=('Time', 'Sales'))\n",
      "\n",
      "start_date = dt.datetime(2015, 7,1)\n",
      "end_date = dt.datetime(2015, 7,10)\n",
      "daterange = pd.date_range(start_date, end_date)\n",
      "\n",
      "for single_date in daterange:\n",
      "    row = dict(zip(['Time', 'Sales'],\n",
      "                   [single_date,\n",
      "                    int(50*np.random.rand(1))]))\n",
      "    row_s = pd.Series(row)\n",
      "    row_s.name = single_date.strftime('%b %d')\n",
      "    df = df.append(row_s)\n",
      "\n",
      "df.ix['Jul 01':'Jul 10', ['Time', 'Sales']].plot()\n",
      "\n",
      "z = np.polyfit(range(0, 10), \n",
      "               df.as_matrix(['Sales']).flatten(), 1)\n",
      "p = np.poly1d(z)\n",
      "plb.plot(df.as_matrix(['Sales']), \n",
      "         p(df.as_matrix(['Sales'])), 'm-')\n",
      "\n",
      "plt.ylim(0, 50)\n",
      "plt.xlabel('Sales Date')\n",
      "plt.ylabel('Sale Value')\n",
      "plt.title('Plotting Time')\n",
      "plt.legend(['Sales', 'Trend'])\n",
      "plt.show()"
     ],
     "language": "python",
     "metadata": {},
     "outputs": [],
     "prompt_number": 9
    },
    {
     "cell_type": "heading",
     "level": 1,
     "metadata": {},
     "source": [
      "Plotting Geographical Data"
     ]
    },
    {
     "cell_type": "code",
     "collapsed": false,
     "input": [
      "import numpy as np\n",
      "import matplotlib.pyplot as plt\n",
      "from mpl_toolkits.basemap import Basemap\n",
      "\n",
      "austin = (-97.75, 30.25)\n",
      "hawaii = (-157.8, 21.3)\n",
      "washington = (-77.01, 38.90)\n",
      "chicago = (-87.68, 41.83)\n",
      "losangeles = (-118.25, 34.05)\n",
      "\n",
      "\n",
      "m = Basemap(projection='merc',llcrnrlat=10,urcrnrlat=50,\n",
      "            llcrnrlon=-160,urcrnrlon=-60)\n",
      "\n",
      "m.drawcoastlines()\n",
      "m.fillcontinents(color='lightgray',lake_color='lightblue')\n",
      "m.drawparallels(np.arange(-90.,91.,30.))\n",
      "m.drawmeridians(np.arange(-180.,181.,60.))\n",
      "m.drawmapboundary(fill_color='aqua')\n",
      "\n",
      "m.drawcountries()\n",
      "\n",
      "x, y = m(*zip(*[hawaii, austin, washington, \n",
      "                chicago, losangeles]))\n",
      "m.plot(x, y, marker='o', markersize=6, \n",
      "       markerfacecolor='red', linewidth=0)\n",
      "\n",
      "plt.title(\"Mercator Projection\")\n",
      "plt.show()"
     ],
     "language": "python",
     "metadata": {},
     "outputs": [],
     "prompt_number": 10
    },
    {
     "cell_type": "heading",
     "level": 1,
     "metadata": {},
     "source": [
      "Visualizing Graphs"
     ]
    },
    {
     "cell_type": "heading",
     "level": 2,
     "metadata": {},
     "source": [
      "Developing undirected graphs"
     ]
    },
    {
     "cell_type": "code",
     "collapsed": false,
     "input": [
      "import networkx as nx\n",
      "import matplotlib.pyplot as plt\n",
      "\n",
      "G = nx.Graph()\n",
      "H = nx.Graph()\n",
      "G.add_node(1)\n",
      "G.add_nodes_from([2, 3])\n",
      "G.add_nodes_from(range(4, 7))\n",
      "H.add_node(7)\n",
      "G.add_nodes_from(H)\n",
      "\n",
      "G.add_edge(1, 2)\n",
      "G.add_edge(1, 1)\n",
      "G.add_edges_from([(2,3), (3,6), (4,6), (5,6)])\n",
      "H.add_edges_from([(4,7), (5,7), (6,7)])\n",
      "G.add_edges_from(H.edges())\n",
      "\n",
      "nx.draw_networkx(G)\n",
      "plt.show()"
     ],
     "language": "python",
     "metadata": {},
     "outputs": [],
     "prompt_number": 11
    },
    {
     "cell_type": "heading",
     "level": 2,
     "metadata": {},
     "source": [
      "Developing directed graphs"
     ]
    },
    {
     "cell_type": "code",
     "collapsed": false,
     "input": [
      "import networkx as nx\n",
      "import matplotlib.pyplot as plt\n",
      "\n",
      "G = nx.DiGraph()\n",
      "\n",
      "G.add_node(1)\n",
      "G.add_nodes_from([2, 3])\n",
      "G.add_nodes_from(range(4, 6))\n",
      "G.add_path([6, 7, 8])\n",
      "\n",
      "G.add_edge(1, 2)\n",
      "G.add_edges_from([(1,4), (4,5), (2,3), (3,6), (5,6)])\n",
      "\n",
      "colors = ['r', 'g', 'g', 'g', 'g', 'm', 'm', 'r']\n",
      "labels = {1:'Start', 2:'2', 3:'3', 4:'4', \n",
      "          5:'5', 6:'6', 7:'7', 8:'End'}\n",
      "sizes = [800, 300, 300, 300, 300, 600, 300, 800]\n",
      "\n",
      "nx.draw_networkx(G, node_color=colors, node_shape='D', \n",
      "                 with_labels=True, labels=labels, \n",
      "                 node_size=sizes)\n",
      "plt.show()"
     ],
     "language": "python",
     "metadata": {},
     "outputs": [],
     "prompt_number": 12
    },
    {
     "cell_type": "code",
     "collapsed": false,
     "input": [],
     "language": "python",
     "metadata": {},
     "outputs": []
    }
   ],
   "metadata": {}
  }
 ]
}