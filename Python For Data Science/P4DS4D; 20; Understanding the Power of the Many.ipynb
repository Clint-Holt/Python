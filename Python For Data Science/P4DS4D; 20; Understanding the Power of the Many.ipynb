{
 "metadata": {
  "name": "",
  "signature": "sha256:ffbfe6bc3518f72a0378c2bb256062e1854e898c5410f51d731a9adb498ccdfa"
 },
 "nbformat": 3,
 "nbformat_minor": 0,
 "worksheets": [
  {
   "cells": [
    {
     "cell_type": "heading",
     "level": 1,
     "metadata": {},
     "source": [
      "Starting with a Plain Decision Tree"
     ]
    },
    {
     "cell_type": "heading",
     "level": 2,
     "metadata": {},
     "source": [
      "Understanding the idea behind the decision tree"
     ]
    },
    {
     "cell_type": "code",
     "collapsed": false,
     "input": [
      "# http://scikit-learn.org/stable/modules/tree.html"
     ],
     "language": "python",
     "metadata": {},
     "outputs": [],
     "prompt_number": 1
    },
    {
     "cell_type": "heading",
     "level": 2,
     "metadata": {},
     "source": [
      "Creating classification and regression trees"
     ]
    },
    {
     "cell_type": "code",
     "collapsed": false,
     "input": [
      "from sklearn.datasets import load_iris\n",
      "iris = load_iris()\n",
      "X, y = iris.data, iris.target\n",
      "features = iris.feature_names"
     ],
     "language": "python",
     "metadata": {},
     "outputs": [],
     "prompt_number": 1
    },
    {
     "cell_type": "code",
     "collapsed": false,
     "input": [
      "from sklearn.cross_validation import cross_val_score\n",
      "from sklearn.cross_validation import KFold\n",
      "crossvalidation = KFold(n=X.shape[0], n_folds=5, shuffle=True, random_state=1)"
     ],
     "language": "python",
     "metadata": {},
     "outputs": [],
     "prompt_number": 2
    },
    {
     "cell_type": "code",
     "collapsed": false,
     "input": [
      "from sklearn import tree\n",
      "for depth in range(1,10):\n",
      "    tree_classifier = tree.DecisionTreeClassifier(max_depth=depth, random_state=0)\n",
      "    if tree_classifier.fit(X,y).tree_.max_depth < depth:\n",
      "        break\n",
      "    score = np.mean(cross_val_score(tree_classifier, X, y, scoring='accuracy', cv=crossvalidation, n_jobs=1))\n",
      "    print 'Depth: %i Accuracy: %.3f' % (depth,score)\n",
      "\n",
      "# min_samples_leaf=3\n",
      "# min_samples_split"
     ],
     "language": "python",
     "metadata": {},
     "outputs": [
      {
       "output_type": "stream",
       "stream": "stdout",
       "text": [
        "Depth: 1 Accuracy: 0.580\n",
        "Depth: 2 Accuracy: 0.913\n",
        "Depth: 3 Accuracy: 0.920\n",
        "Depth: 4 Accuracy: 0.940\n",
        "Depth: 5 Accuracy: 0.920\n"
       ]
      }
     ],
     "prompt_number": 3
    },
    {
     "cell_type": "code",
     "collapsed": false,
     "input": [
      "### GRAPHIC OUTPUT\n",
      "from sklearn.externals.six import StringIO  \n",
      "import pydot \n",
      "dot_data = StringIO()\n",
      "tree_classifier = tree.DecisionTreeClassifier(max_depth=4, random_state=0)\n",
      "tree_classifier.fit(X,y)\n",
      "tree.export_graphviz(tree_classifier, out_file=dot_data, feature_names=features, max_depth=4) \n",
      "graph = pydot.graph_from_dot_data(dot_data.getvalue()) \n",
      "graph.write_pdf(\"Iris.pdf\")\n",
      "graph.write_png(\"9781118844182 fg2001.png\")"
     ],
     "language": "python",
     "metadata": {},
     "outputs": [
      {
       "metadata": {},
       "output_type": "pyout",
       "prompt_number": 6,
       "text": [
        "True"
       ]
      }
     ],
     "prompt_number": 6
    },
    {
     "cell_type": "code",
     "collapsed": false,
     "input": [
      "import pandas as pd\n",
      "from sklearn.preprocessing import OneHotEncoder\n",
      "titanic = pd.io.parsers.read_csv(\"Titanic.csv\")\n",
      "encoder = OneHotEncoder(sparse=False)\n",
      "X = titanic[['sex','age','sibsp','parch','pclass']].values\n",
      "y = titanic['survived'].values == 'survived'\n",
      "tree_classifier = tree.DecisionTreeClassifier(max_depth=2, min_samples_split=467, min_samples_leaf=10, random_state=0)\n",
      "\n",
      "df = pd.concat([\n",
      "pd.get_dummies(titanic['sex']),\n",
      "titanic[['age']],\n",
      "], join='outer', axis=1)\n",
      "\n",
      "tree_classifier.fit(df,y)\n",
      "\n",
      "### GRAPHIC OUTPUT\n",
      "from sklearn.externals.six import StringIO  \n",
      "import pydot \n",
      "dot_data = StringIO() \n",
      "tree.export_graphviz(tree_classifier, out_file=dot_data, feature_names=df.columns, max_depth=2) \n",
      "graph = pydot.graph_from_dot_data(dot_data.getvalue()) \n",
      "graph.write_pdf(\"Titanic.pdf\") \n",
      "graph.write_png(\"9781118844182 fg2001.png\")"
     ],
     "language": "python",
     "metadata": {},
     "outputs": [
      {
       "metadata": {},
       "output_type": "pyout",
       "prompt_number": 52,
       "text": [
        "True"
       ]
      }
     ],
     "prompt_number": 52
    },
    {
     "cell_type": "code",
     "collapsed": false,
     "input": [
      "tree_classifier = tree.DecisionTreeClassifier(min_samples_split=30, min_samples_leaf=10, random_state=0)\n",
      "tree_classifier.fit(X,y)\n",
      "score = np.mean(cross_val_score(tree_classifier, X, y, scoring='accuracy', cv=crossvalidation, n_jobs=1))\n",
      "print 'Accuracy: %.3f' % score"
     ],
     "language": "python",
     "metadata": {},
     "outputs": [
      {
       "output_type": "stream",
       "stream": "stdout",
       "text": [
        "Accuracy: 0.913\n"
       ]
      }
     ],
     "prompt_number": 19
    },
    {
     "cell_type": "code",
     "collapsed": false,
     "input": [
      "### GRAPHIC OUTPUT\n",
      "from sklearn.externals.six import StringIO  \n",
      "import pydot \n",
      "dot_data = StringIO() \n",
      "tree.export_graphviz(tree_classifier, out_file=dot_data, feature_names=features, max_depth=4) \n",
      "graph = pydot.graph_from_dot_data(dot_data.getvalue()) \n",
      "graph.write_pdf(\"Iris simpler.pdf\") "
     ],
     "language": "python",
     "metadata": {},
     "outputs": [
      {
       "metadata": {},
       "output_type": "pyout",
       "prompt_number": 20,
       "text": [
        "True"
       ]
      }
     ],
     "prompt_number": 20
    },
    {
     "cell_type": "code",
     "collapsed": false,
     "input": [
      "from sklearn.datasets import load_boston\n",
      "boston = load_boston()\n",
      "X, y = boston.data, boston.target\n",
      "features = boston.feature_names"
     ],
     "language": "python",
     "metadata": {},
     "outputs": [],
     "prompt_number": 2
    },
    {
     "cell_type": "code",
     "collapsed": false,
     "input": [
      "from sklearn.tree import DecisionTreeRegressor\n",
      "regression_tree = tree.DecisionTreeRegressor(min_samples_split=30, min_samples_leaf=10, random_state=0)\n",
      "regression_tree.fit(X,y)\n",
      "score = np.mean(cross_val_score(regression_tree, X, y, scoring='mean_squared_error', cv=crossvalidation, n_jobs=1))\n",
      "print 'Mean squared error: %.3f' % abs(score)"
     ],
     "language": "python",
     "metadata": {},
     "outputs": [
      {
       "output_type": "stream",
       "stream": "stdout",
       "text": [
        "Mean squared error: 22.593\n"
       ]
      }
     ],
     "prompt_number": 56
    },
    {
     "cell_type": "code",
     "collapsed": false,
     "input": [
      "### GRAPHIC OUTPUT\n",
      "from sklearn.externals.six import StringIO  \n",
      "import pydot \n",
      "dot_data = StringIO() \n",
      "tree.export_graphviz(regression_tree, out_file=dot_data, feature_names=features, max_depth=4) \n",
      "graph = pydot.graph_from_dot_data(dot_data.getvalue()) \n",
      "graph.write_pdf(\"Boston.pdf\") "
     ],
     "language": "python",
     "metadata": {},
     "outputs": [
      {
       "metadata": {},
       "output_type": "pyout",
       "prompt_number": 23,
       "text": [
        "True"
       ]
      }
     ],
     "prompt_number": 23
    },
    {
     "cell_type": "heading",
     "level": 1,
     "metadata": {},
     "source": [
      "Getting Lost in a Random Forest"
     ]
    },
    {
     "cell_type": "heading",
     "level": 2,
     "metadata": {},
     "source": [
      "Making machine learning accessible to all"
     ]
    },
    {
     "cell_type": "code",
     "collapsed": false,
     "input": [
      "from sklearn.ensemble import BaggingClassifier\n",
      "from sklearn import tree\n",
      "tree_classifier = tree.DecisionTreeClassifier(random_state=0)\n",
      "crossvalidation = KFold(n=X.shape[0], n_folds=5, shuffle=True, random_state=1)\n",
      "bagging = BaggingClassifier(tree_classifier, max_samples=0.7, max_features=0.7, n_estimators=300)\n",
      "scores = np.mean(cross_val_score(bagging, X, y, scoring='accuracy', cv=crossvalidation, n_jobs=1))\n",
      "print 'Accuracy: %.3f' % score"
     ],
     "language": "python",
     "metadata": {},
     "outputs": [
      {
       "output_type": "stream",
       "stream": "stdout",
       "text": [
        "Mean squared error: 0.966\n"
       ]
      }
     ],
     "prompt_number": 52
    },
    {
     "cell_type": "heading",
     "level": 2,
     "metadata": {},
     "source": [
      "Working with a random forest classifier"
     ]
    },
    {
     "cell_type": "code",
     "collapsed": false,
     "input": [
      "from sklearn.datasets import load_digits\n",
      "digit = load_digits()\n",
      "X, y = digit.data, digit.target\n",
      "print X.shape, y.shape"
     ],
     "language": "python",
     "metadata": {},
     "outputs": [
      {
       "output_type": "stream",
       "stream": "stdout",
       "text": [
        "(1797L, 64L) (1797L,)\n"
       ]
      }
     ],
     "prompt_number": 47
    },
    {
     "cell_type": "code",
     "collapsed": false,
     "input": [
      "from sklearn.ensemble import RandomForestClassifier\n",
      "from sklearn.cross_validation import cross_val_score\n",
      "from sklearn.cross_validation import KFold\n",
      "crossvalidation = KFold(n=X.shape[0], n_folds=5, shuffle=True, random_state=1)\n",
      "RF_cls = RandomForestClassifier(n_estimators=300)\n",
      "score = np.mean(cross_val_score(RF_cls, X, y, scoring='accuracy', cv=crossvalidation, n_jobs=1))\n",
      "print 'Accuracy: %.3f' % score"
     ],
     "language": "python",
     "metadata": {},
     "outputs": [
      {
       "output_type": "stream",
       "stream": "stdout",
       "text": [
        "Accuracy: 0.974\n"
       ]
      }
     ],
     "prompt_number": 29
    },
    {
     "cell_type": "code",
     "collapsed": false,
     "input": [
      "from sklearn.learning_curve import validation_curve\n",
      "train_scores, test_scores = validation_curve(RF_cls, X, y,\n",
      "                                             'n_estimators', param_range=[10,50,100,200,300,500,800,1000,1500], \n",
      "                                             cv=crossvalidation, scoring='accuracy', n_jobs=1)\n",
      "print 'mean cv accuracy %s' % np.mean(test_scores,axis=1)"
     ],
     "language": "python",
     "metadata": {},
     "outputs": [
      {
       "output_type": "stream",
       "stream": "stdout",
       "text": [
        "mean cv accuracy [ 0.94768802  0.96939338  0.97384865  0.97495667  0.97607088  0.97718353\n",
        "  0.97607088  0.97718508  0.97662643]\n"
       ]
      }
     ],
     "prompt_number": 30
    },
    {
     "cell_type": "code",
     "collapsed": false,
     "input": [
      "import matplotlib.pyplot as plt\n",
      "mean_test = np.mean(test_scores,axis=1)\n",
      "#plt.plot([10,50,100,200,300,500,1000],mean_train,'ro--', label='Training')\n",
      "plt.plot([10,50,100,200,300,500,800,1000,1500],mean_test,'bD-.', label='Cross-validation')\n",
      "plt.grid()\n",
      "plt.xlabel('Number of estimators') # adds label to x axis\n",
      "plt.ylabel('accuracy') # adds label to y axis\n",
      "plt.legend(loc='lower right', numpoints= 1)\n",
      "plt.show()"
     ],
     "language": "python",
     "metadata": {},
     "outputs": [
      {
       "metadata": {},
       "output_type": "display_data",
       "png": "[encoded data removed]",
       "text": [
        "<matplotlib.figure.Figure at 0x207230b8>"
       ]
      }
     ],
     "prompt_number": 32
    },
    {
     "cell_type": "heading",
     "level": 2,
     "metadata": {},
     "source": [
      "Working with a random forest regressor"
     ]
    },
    {
     "cell_type": "code",
     "collapsed": false,
     "input": [
      "X, y = boston.data, boston.target"
     ],
     "language": "python",
     "metadata": {},
     "outputs": [],
     "prompt_number": 64
    },
    {
     "cell_type": "code",
     "collapsed": false,
     "input": [
      "from sklearn.ensemble import RandomForestRegressor\n",
      "RF_rg = RandomForestRegressor (n_estimators=300, random_state=1)\n",
      "crossvalidation = KFold(n=X.shape[0], n_folds=5, shuffle=True, random_state=1)\n",
      "score = np.mean(cross_val_score(RF_rg, X, y, scoring='mean_squared_error', cv=crossvalidation, n_jobs=1))\n",
      "print 'Mean squared error: %.3f' % abs(score)"
     ],
     "language": "python",
     "metadata": {},
     "outputs": [
      {
       "output_type": "stream",
       "stream": "stdout",
       "text": [
        "Mean squared error: 11.920\n"
       ]
      }
     ],
     "prompt_number": 65
    },
    {
     "cell_type": "heading",
     "level": 2,
     "metadata": {},
     "source": [
      "Optimizing a random forest"
     ]
    },
    {
     "cell_type": "code",
     "collapsed": false,
     "input": [
      "from sklearn.ensemble import RandomForestClassifier\n",
      "X, y = digit.data, digit.target\n",
      "crossvalidation = KFold(n=X.shape[0], n_folds=5, shuffle=True, random_state=1)\n",
      "RF_cls = RandomForestClassifier(n_estimators=300)\n",
      "scorer = 'accuracy'"
     ],
     "language": "python",
     "metadata": {},
     "outputs": [],
     "prompt_number": 54
    },
    {
     "cell_type": "code",
     "collapsed": false,
     "input": [
      "RF_cls = RandomForestClassifier(n_estimators=300).fit(X,y)\n",
      "X = RF_cls.transform(X)\n",
      "print X.shape\n",
      "print RF_cls.feature_importances_"
     ],
     "language": "python",
     "metadata": {},
     "outputs": [
      {
       "output_type": "stream",
       "stream": "stdout",
       "text": [
        "(1797L, 31L)\n",
        "[  0.00000000e+00   1.82344118e-03   2.04688900e-02   9.95683552e-03\n",
        "   9.44594976e-03   1.93138834e-02   8.35963956e-03   5.90175680e-04\n",
        "   4.98793019e-05   1.02607026e-02   2.76353664e-02   6.52640963e-03\n",
        "   1.55687575e-02   2.72906222e-02   5.53425609e-03   5.89013006e-04\n",
        "   9.29651339e-05   7.68002597e-03   2.08135918e-02   2.61134283e-02\n",
        "   2.96625199e-02   5.09749049e-02   9.16296341e-03   3.63989944e-04\n",
        "   5.50785439e-05   1.28918236e-02   4.44117979e-02   2.44743870e-02\n",
        "   3.22417158e-02   2.22773452e-02   3.01759074e-02   5.54781617e-05\n",
        "   0.00000000e+00   2.96271669e-02   2.76171029e-02   1.69894228e-02\n",
        "   4.06851465e-02   1.98866575e-02   2.56347728e-02   0.00000000e+00\n",
        "   4.35552108e-05   9.44618146e-03   3.80107080e-02   4.42118665e-02\n",
        "   2.11806555e-02   1.81103954e-02   1.89029826e-02   1.03823283e-04\n",
        "   5.81485235e-05   2.22007956e-03   1.55943037e-02   2.19845064e-02\n",
        "   1.37198844e-02   2.37288974e-02   2.60834791e-02   1.68087865e-03\n",
        "   1.06655788e-05   1.69595476e-03   2.23411600e-02   1.06587987e-02\n",
        "   2.42659800e-02   2.96634295e-02   1.74635106e-02   3.51814114e-03]\n"
       ]
      }
     ],
     "prompt_number": 64
    },
    {
     "cell_type": "code",
     "collapsed": false,
     "input": [
      "from sklearn import grid_search\n",
      "search_grid =  {'max_features': [Xr.shape[1]/3, 'sqrt', 'log2', 'auto'], 'min_samples_leaf': [1, 2, 10, 30]}\n",
      "search_func = grid_search.GridSearchCV(estimator=RF_cls, param_grid=search_grid, scoring=scorer, n_jobs=1, cv=crossvalidation)\n",
      "search_func.fit(Xr,y)"
     ],
     "language": "python",
     "metadata": {},
     "outputs": [
      {
       "metadata": {},
       "output_type": "pyout",
       "prompt_number": 62,
       "text": [
        "GridSearchCV(cv=sklearn.cross_validation.KFold(n=1797, n_folds=5, shuffle=True, random_state=1),\n",
        "       estimator=RandomForestClassifier(bootstrap=True, compute_importances=None,\n",
        "            criterion='gini', max_depth=None, max_features='auto',\n",
        "            max_leaf_nodes=None, min_density=None, min_samples_leaf=1,\n",
        "            min_samples_split=2, n_estimators=300, n_jobs=1,\n",
        "            oob_score=False, random_state=None, verbose=0),\n",
        "       fit_params={}, iid=True, loss_func=None, n_jobs=1,\n",
        "       param_grid={'max_features': [11L, 'sqrt', 'log2', 'auto'], 'min_samples_leaf': [1, 2, 10, 30]},\n",
        "       pre_dispatch='2*n_jobs', refit=True, score_func=None,\n",
        "       scoring='accuracy', verbose=0)"
       ]
      }
     ],
     "prompt_number": 62
    },
    {
     "cell_type": "code",
     "collapsed": false,
     "input": [
      "print 'Best parameters: %s' % search_func.best_params_\n",
      "print 'Best accuracy: %.3f' % search_func.best_score_"
     ],
     "language": "python",
     "metadata": {},
     "outputs": [
      {
       "output_type": "stream",
       "stream": "stdout",
       "text": [
        "Best parameters: {'max_features': 'log2', 'min_samples_leaf': 1}\n",
        "Best accuracy: 0.977\n"
       ]
      }
     ],
     "prompt_number": 63
    },
    {
     "cell_type": "heading",
     "level": 1,
     "metadata": {},
     "source": [
      "Boosting predictions"
     ]
    },
    {
     "cell_type": "code",
     "collapsed": false,
     "input": [
      "X, y = digit.data, digit.target"
     ],
     "language": "python",
     "metadata": {},
     "outputs": [],
     "prompt_number": 49
    },
    {
     "cell_type": "heading",
     "level": 2,
     "metadata": {},
     "source": [
      "Knowing that many weak predictors win "
     ]
    },
    {
     "cell_type": "code",
     "collapsed": false,
     "input": [
      "from sklearn.ensemble import AdaBoostClassifier\n",
      "ada = AdaBoostClassifier(n_estimators=1000, learning_rate=0.01, random_state=1)\n",
      "crossvalidation = KFold(n=X.shape[0], n_folds=5, shuffle=True, random_state=1)\n",
      "score = np.mean(cross_val_score(ada, X, y, scoring='accuracy', cv=crossvalidation, n_jobs=1))\n",
      "print 'Accuracy: %.3f' % score"
     ],
     "language": "python",
     "metadata": {},
     "outputs": [
      {
       "output_type": "stream",
       "stream": "stdout",
       "text": [
        "Accuracy: 0.826\n"
       ]
      }
     ],
     "prompt_number": 81
    },
    {
     "cell_type": "heading",
     "level": 2,
     "metadata": {},
     "source": [
      "Creating a gradient boosting classifier"
     ]
    },
    {
     "cell_type": "code",
     "collapsed": false,
     "input": [
      "X, y = digit.data, digit.target\n",
      "crossvalidation = KFold(n=X.shape[0], n_folds=5, shuffle=True, random_state=1)"
     ],
     "language": "python",
     "metadata": {},
     "outputs": [
      {
       "output_type": "stream",
       "stream": "stdout",
       "text": [
        "(1797L, 64L) (1797L,)\n"
       ]
      }
     ],
     "prompt_number": 5
    },
    {
     "cell_type": "code",
     "collapsed": false,
     "input": [
      "from sklearn.ensemble import GradientBoostingClassifier\n",
      "GBC = GradientBoostingClassifier(n_estimators=300, subsample=1.0, max_depth=2, learning_rate=0.1, random_state=1)\n",
      "score = np.mean(cross_val_score(GBC, X, y, scoring='accuracy', cv=crossvalidation, n_jobs=1))\n",
      "print 'Accuracy: %.3f' % score"
     ],
     "language": "python",
     "metadata": {},
     "outputs": [
      {
       "output_type": "stream",
       "stream": "stdout",
       "text": [
        "Accuracy: 0.972\n"
       ]
      }
     ],
     "prompt_number": 15
    },
    {
     "cell_type": "heading",
     "level": 2,
     "metadata": {},
     "source": [
      "Creating a gradient boosting regressor"
     ]
    },
    {
     "cell_type": "code",
     "collapsed": false,
     "input": [
      "X, y = boston.data, boston.target"
     ],
     "language": "python",
     "metadata": {},
     "outputs": [],
     "prompt_number": 87
    },
    {
     "cell_type": "code",
     "collapsed": false,
     "input": [
      "from sklearn.ensemble import GradientBoostingRegressor\n",
      "GBR = GradientBoostingRegressor(n_estimators=1000, subsample=1.0, max_depth=3, learning_rate=0.01, random_state=1)\n",
      "crossvalidation = KFold(n=X.shape[0], n_folds=5, shuffle=True, random_state=1)\n",
      "score = np.mean(cross_val_score(GBR, X, y, scoring='mean_squared_error', cv=crossvalidation, n_jobs=1))\n",
      "print 'Mean squared error: %.3f' % abs(score)"
     ],
     "language": "python",
     "metadata": {},
     "outputs": [
      {
       "output_type": "stream",
       "stream": "stdout",
       "text": [
        "Mean squared error: 10.105\n"
       ]
      }
     ],
     "prompt_number": 5
    },
    {
     "cell_type": "heading",
     "level": 2,
     "metadata": {},
     "source": [
      "Using GBM hyper-parameters"
     ]
    },
    {
     "cell_type": "code",
     "collapsed": false,
     "input": [
      "X, y = boston.data, boston.target\n",
      "crossvalidation = KFold(n=X.shape[0], n_folds=5, shuffle=True, random_state=1)\n",
      "GBR = GradientBoostingRegressor(n_estimators=1000, subsample=1.0, max_depth=3, learning_rate=0.01, random_state=1)"
     ],
     "language": "python",
     "metadata": {},
     "outputs": [],
     "prompt_number": 6
    },
    {
     "cell_type": "code",
     "collapsed": false,
     "input": [
      "from sklearn import grid_search\n",
      "search_grid =  {'subsample': [1.0, 0.9], 'max_depth': [2, 3, 5], 'n_estimators': [500 , 1000, 2000]}\n",
      "search_func = grid_search.GridSearchCV(estimator=GBR, param_grid=search_grid, scoring='mean_squared_error', n_jobs=1, cv=crossvalidation)\n",
      "search_func.fit(X,y)"
     ],
     "language": "python",
     "metadata": {},
     "outputs": [
      {
       "metadata": {},
       "output_type": "pyout",
       "prompt_number": 8,
       "text": [
        "GridSearchCV(cv=sklearn.cross_validation.KFold(n=506, n_folds=5, shuffle=True, random_state=1),\n",
        "       estimator=GradientBoostingRegressor(alpha=0.9, init=None, learning_rate=0.01, loss='ls',\n",
        "             max_depth=3, max_features=None, max_leaf_nodes=None,\n",
        "             min_samples_leaf=1, min_samples_split=2, n_estimators=1000,\n",
        "             random_state=1, subsample=1.0, verbose=0, warm_start=False),\n",
        "       fit_params={}, iid=True, loss_func=None, n_jobs=1,\n",
        "       param_grid={'n_estimators': [500, 1000, 2000], 'subsample': [1.0, 0.9], 'max_depth': [2, 3, 5]},\n",
        "       pre_dispatch='2*n_jobs', refit=True, score_func=None,\n",
        "       scoring='mean_squared_error', verbose=0)"
       ]
      }
     ],
     "prompt_number": 8
    },
    {
     "cell_type": "code",
     "collapsed": false,
     "input": [
      "print 'Best parameters: %s' % search_func.best_params_\n",
      "print 'Best mean squared error: %.3f' % abs(search_func.best_score_)"
     ],
     "language": "python",
     "metadata": {},
     "outputs": [
      {
       "output_type": "stream",
       "stream": "stdout",
       "text": [
        "Best parameters: {'n_estimators': 2000, 'subsample': 0.9, 'max_depth': 3}\n",
        "Best mean squared error: 9.263\n"
       ]
      }
     ],
     "prompt_number": 10
    }
   ],
   "metadata": {}
  }
 ]
}