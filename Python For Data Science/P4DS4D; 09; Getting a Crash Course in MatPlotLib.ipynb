{
 "metadata": {
  "name": "",
  "signature": "sha256:1fbfca30085955f754ccce3a3f44147464e3e128049326e4876aa6387fa95143"
 },
 "nbformat": 3,
 "nbformat_minor": 0,
 "worksheets": [
  {
   "cells": [
    {
     "cell_type": "heading",
     "level": 1,
     "metadata": {},
     "source": [
      "Starting with a Graph"
     ]
    },
    {
     "cell_type": "heading",
     "level": 2,
     "metadata": {},
     "source": [
      "Defining the plot"
     ]
    },
    {
     "cell_type": "code",
     "collapsed": false,
     "input": [
      "values = [1, 5, 8, 9, 2, 0, 3, 10, 4, 7]\n",
      "import matplotlib.pyplot as plt\n",
      "plt.plot(range(1,11), values)\n",
      "plt.show()"
     ],
     "language": "python",
     "metadata": {},
     "outputs": [],
     "prompt_number": 1
    },
    {
     "cell_type": "heading",
     "level": 2,
     "metadata": {},
     "source": [
      "Drawing multiple lines and plots"
     ]
    },
    {
     "cell_type": "code",
     "collapsed": false,
     "input": [
      "values = [1, 5, 8, 9, 2, 0, 3, 10, 4, 7]\n",
      "values2 = [3, 8, 9, 2, 1, 2, 4, 7, 6, 6]\n",
      "import matplotlib.pyplot as plt\n",
      "plt.plot(range(1,11), values)\n",
      "plt.plot(range(1,11), values2)\n",
      "plt.show()"
     ],
     "language": "python",
     "metadata": {},
     "outputs": [],
     "prompt_number": 2
    },
    {
     "cell_type": "heading",
     "level": 2,
     "metadata": {},
     "source": [
      "Saving your work"
     ]
    },
    {
     "cell_type": "code",
     "collapsed": false,
     "input": [
      "values = [1, 5, 8, 9, 2, 0, 3, 10, 4, 7]\n",
      "import matplotlib.pyplot as plt\n",
      "plt.plot(range(1,11), values)\n",
      "plt.savefig('MySamplePlot.png', format='png')"
     ],
     "language": "python",
     "metadata": {},
     "outputs": [],
     "prompt_number": 3
    },
    {
     "cell_type": "heading",
     "level": 1,
     "metadata": {},
     "source": [
      "Setting the Axis, Ticks, Grids"
     ]
    },
    {
     "cell_type": "heading",
     "level": 2,
     "metadata": {},
     "source": [
      "Setting the axes"
     ]
    },
    {
     "cell_type": "code",
     "collapsed": false,
     "input": [
      "values = [0, 5, 8, 9, 2, 0, 3, 10, 4, 7]\n",
      "import matplotlib.pyplot as plt\n",
      "ax = plt.axes()\n",
      "plt.plot(range(1,11), values)\n",
      "plt.show()"
     ],
     "language": "python",
     "metadata": {},
     "outputs": [],
     "prompt_number": 4
    },
    {
     "cell_type": "heading",
     "level": 2,
     "metadata": {},
     "source": [
      "Formatting the axes"
     ]
    },
    {
     "cell_type": "code",
     "collapsed": false,
     "input": [
      "values = [0, 5, 8, 9, 2, 0, 3, 10, 4, 7]\n",
      "import matplotlib.pyplot as plt\n",
      "ax = plt.axes()\n",
      "ax.set_xlim([0, 11])\n",
      "ax.set_ylim([-1, 11])\n",
      "ax.set_xticks([1, 2, 3, 4, 5, 6, 7, 8, 9, 10])\n",
      "ax.set_yticks([0, 1, 2, 3, 4, 5, 6, 7, 8, 9, 10])\n",
      "plt.plot(range(1,11), values)\n",
      "plt.show()"
     ],
     "language": "python",
     "metadata": {},
     "outputs": [],
     "prompt_number": 5
    },
    {
     "cell_type": "heading",
     "level": 2,
     "metadata": {},
     "source": [
      "Adding grids"
     ]
    },
    {
     "cell_type": "code",
     "collapsed": false,
     "input": [
      "values = [0, 5, 8, 9, 2, 0, 3, 10, 4, 7]\n",
      "import matplotlib.pyplot as plt\n",
      "ax = plt.axes()\n",
      "ax.set_xlim([0, 11])\n",
      "ax.set_ylim([-1, 11])\n",
      "ax.set_xticks([1, 2, 3, 4, 5, 6, 7, 8, 9, 10])\n",
      "ax.set_yticks([0, 1, 2, 3, 4, 5, 6, 7, 8, 9, 10])\n",
      "ax.grid()\n",
      "plt.plot(range(1,11), values)\n",
      "plt.show()"
     ],
     "language": "python",
     "metadata": {},
     "outputs": [],
     "prompt_number": 6
    },
    {
     "cell_type": "heading",
     "level": 1,
     "metadata": {},
     "source": [
      "Defining the Line Appearance"
     ]
    },
    {
     "cell_type": "heading",
     "level": 2,
     "metadata": {},
     "source": [
      "Working with line styles"
     ]
    },
    {
     "cell_type": "code",
     "collapsed": false,
     "input": [
      "values = [1, 5, 8, 9, 2, 0, 3, 10, 4, 7]\n",
      "values2 = [3, 8, 9, 2, 1, 2, 4, 7, 6, 6]\n",
      "import matplotlib.pyplot as plt\n",
      "plt.plot(range(1,11), values, '--')\n",
      "plt.plot(range(1,11), values2, ':')\n",
      "plt.show()"
     ],
     "language": "python",
     "metadata": {},
     "outputs": [],
     "prompt_number": 7
    },
    {
     "cell_type": "heading",
     "level": 2,
     "metadata": {},
     "source": [
      "Using colors"
     ]
    },
    {
     "cell_type": "code",
     "collapsed": false,
     "input": [
      "values = [1, 5, 8, 9, 2, 0, 3, 10, 4, 7]\n",
      "values2 = [3, 8, 9, 2, 1, 2, 4, 7, 6, 6]\n",
      "import matplotlib.pyplot as plt\n",
      "plt.plot(range(1,11), values, 'r')\n",
      "plt.plot(range(1,11), values2, 'm')\n",
      "plt.show()"
     ],
     "language": "python",
     "metadata": {},
     "outputs": [],
     "prompt_number": 8
    },
    {
     "cell_type": "heading",
     "level": 2,
     "metadata": {},
     "source": [
      "Adding markers"
     ]
    },
    {
     "cell_type": "code",
     "collapsed": false,
     "input": [
      "values = [1, 5, 8, 9, 2, 0, 3, 10, 4, 7]\n",
      "values2 = [3, 8, 9, 2, 1, 2, 4, 7, 6, 6]\n",
      "import matplotlib.pyplot as plt\n",
      "plt.plot(range(1,11), values, 'o--')\n",
      "plt.plot(range(1,11), values2, 'v:')\n",
      "plt.show()"
     ],
     "language": "python",
     "metadata": {},
     "outputs": [],
     "prompt_number": 9
    },
    {
     "cell_type": "heading",
     "level": 1,
     "metadata": {},
     "source": [
      "Using Labels, Annotations, and Legends"
     ]
    },
    {
     "cell_type": "heading",
     "level": 2,
     "metadata": {},
     "source": [
      "Adding labels"
     ]
    },
    {
     "cell_type": "code",
     "collapsed": false,
     "input": [
      "values = [1, 5, 8, 9, 2, 0, 3, 10, 4, 7]\n",
      "import matplotlib.pyplot as plt\n",
      "plt.xlabel('Entries')\n",
      "plt.ylabel('Values')\n",
      "plt.plot(range(1,11), values)\n",
      "plt.show()"
     ],
     "language": "python",
     "metadata": {},
     "outputs": [],
     "prompt_number": 10
    },
    {
     "cell_type": "heading",
     "level": 2,
     "metadata": {},
     "source": [
      "Annotating the chart"
     ]
    },
    {
     "cell_type": "code",
     "collapsed": false,
     "input": [
      "values = [1, 5, 8, 9, 2, 0, 3, 10, 4, 7]\n",
      "import matplotlib.pyplot as plt\n",
      "plt.annotate(xy=[1,1], s='First Entry')\n",
      "plt.plot(range(1,11), values)\n",
      "plt.show()"
     ],
     "language": "python",
     "metadata": {},
     "outputs": [],
     "prompt_number": 11
    },
    {
     "cell_type": "heading",
     "level": 2,
     "metadata": {},
     "source": [
      "Creating a legend"
     ]
    },
    {
     "cell_type": "code",
     "collapsed": false,
     "input": [
      "values = [1, 5, 8, 9, 2, 0, 3, 10, 4, 7]\n",
      "values2 = [3, 8, 9, 2, 1, 2, 4, 7, 6, 6]\n",
      "import matplotlib.pyplot as plt\n",
      "line1 = plt.plot(range(1,11), values)\n",
      "line2 = plt.plot(range(1,11), values2)\n",
      "plt.legend(['First', 'Second'], loc=4)\n",
      "plt.show()"
     ],
     "language": "python",
     "metadata": {},
     "outputs": [],
     "prompt_number": 12
    },
    {
     "cell_type": "code",
     "collapsed": false,
     "input": [],
     "language": "python",
     "metadata": {},
     "outputs": []
    }
   ],
   "metadata": {}
  }
 ]
}