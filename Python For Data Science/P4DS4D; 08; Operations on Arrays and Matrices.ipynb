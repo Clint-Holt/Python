{
 "metadata": {
  "name": "",
  "signature": "sha256:b25a702c341a989b5fef176ee4f4dbe54f0ba5f629d1d51584a7e5ed7dbb668c"
 },
 "nbformat": 3,
 "nbformat_minor": 0,
 "worksheets": [
  {
   "cells": [
    {
     "cell_type": "heading",
     "level": 1,
     "metadata": {},
     "source": [
      "Performing Operations on Arrays"
     ]
    },
    {
     "cell_type": "heading",
     "level": 2,
     "metadata": {},
     "source": [
      "Using vectorization"
     ]
    },
    {
     "cell_type": "code",
     "collapsed": false,
     "input": [
      "import numpy as np\n",
      "dataset = np.array([[2, 4, 6, 8, 3, 2, 5], \n",
      "                    [7, 5, 3, 1, 6, 8, 0], \n",
      "                    [1, 3, 2, 1, 0, 0, 8]])\n",
      "print np.max(dataset, axis=1) - np.min(dataset, axis=1)"
     ],
     "language": "python",
     "metadata": {},
     "outputs": [
      {
       "output_type": "stream",
       "stream": "stdout",
       "text": [
        "[6 8 8]\n"
       ]
      }
     ],
     "prompt_number": 1
    },
    {
     "cell_type": "heading",
     "level": 2,
     "metadata": {},
     "source": [
      "Performing simple arithmetic on vectors and matrices"
     ]
    },
    {
     "cell_type": "code",
     "collapsed": false,
     "input": [
      "import numpy as np\n",
      "a = np.array([15.0, 20.0, 22.0, 75.0, 40.0, 35.0])\n",
      "a = a*.01\n",
      "print a"
     ],
     "language": "python",
     "metadata": {},
     "outputs": [
      {
       "output_type": "stream",
       "stream": "stdout",
       "text": [
        "[ 0.15  0.2   0.22  0.75  0.4   0.35]\n"
       ]
      }
     ],
     "prompt_number": 2
    },
    {
     "cell_type": "heading",
     "level": 2,
     "metadata": {},
     "source": [
      "Performing matrix vector multiplication"
     ]
    },
    {
     "cell_type": "code",
     "collapsed": false,
     "input": [
      "import numpy as np\n",
      "a = np.array([2, 4, 6, 8])\n",
      "b = np.array([[1, 2, 3, 4],\n",
      "              [2, 3, 4, 5],\n",
      "              [3, 4, 5, 6],\n",
      "              [4, 5, 6, 7]])\n",
      "c = np.dot(a, b)\n",
      "print c"
     ],
     "language": "python",
     "metadata": {},
     "outputs": [
      {
       "output_type": "stream",
       "stream": "stdout",
       "text": [
        "[ 60  80 100 120]\n"
       ]
      }
     ],
     "prompt_number": 3
    },
    {
     "cell_type": "heading",
     "level": 2,
     "metadata": {},
     "source": [
      "Performing matrix multiplication"
     ]
    },
    {
     "cell_type": "code",
     "collapsed": false,
     "input": [
      "import numpy as np\n",
      "\n",
      "a = np.array([[2, 4, 6, 8],\n",
      "              [1, 3, 5, 7]])\n",
      "b = np.array ([[1, 2],\n",
      "              [2, 3],\n",
      "              [3, 4],\n",
      "              [4, 5]])\n",
      "c = np.dot(a, b)\n",
      "print c"
     ],
     "language": "python",
     "metadata": {},
     "outputs": [
      {
       "output_type": "stream",
       "stream": "stdout",
       "text": [
        "[[60 80]\n",
        " [50 66]]\n"
       ]
      }
     ],
     "prompt_number": 4
    },
    {
     "cell_type": "code",
     "collapsed": false,
     "input": [],
     "language": "python",
     "metadata": {},
     "outputs": []
    }
   ],
   "metadata": {}
  }
 ]
}